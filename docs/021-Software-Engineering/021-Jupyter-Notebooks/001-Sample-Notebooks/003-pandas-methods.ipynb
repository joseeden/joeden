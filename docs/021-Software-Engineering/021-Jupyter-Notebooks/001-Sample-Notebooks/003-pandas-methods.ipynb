{
 "cells": [
  {
   "cell_type": "markdown",
   "metadata": {},
   "source": [
    "<a href=\"https://colab.research.google.com/github/joseeden/joeden/blob/master/docs/021-Software-Engineering/021-Jupyter-Notebooks/001-Sample-Notebooks/002_sample_pandas.ipynb\" target=\"_parent\"><img src=\"https://colab.research.google.com/assets/colab-badge.svg\" alt=\"Open In Colab\"/></a>"
   ]
  },
  {
   "cell_type": "markdown",
   "metadata": {},
   "source": [
    "# Pandas Methods\n",
    "\n",
    "Consider the BRICS dataframe below. It is populated with the data from the dictionary."
   ]
  },
  {
   "cell_type": "code",
   "execution_count": 17,
   "metadata": {},
   "outputs": [
    {
     "name": "stdout",
     "output_type": "stream",
     "text": [
      "         country    capital  area  population\n",
      "BR        Brazil   Brasília   8.5         211\n",
      "RU        Russia     Moscow  17.1         144\n",
      "IN         India  New Delhi   3.3        1380\n",
      "CH         China    Beijing   9.6        1393\n",
      "SA  South Africa   Pretoria   1.2          58\n"
     ]
    }
   ],
   "source": [
    "import pandas as pd\n",
    "\n",
    "data = {\n",
    "    \"country\": [\"Brazil\", \"Russia\", \"India\", \"China\", \"South Africa\"],\n",
    "    \"capital\": [\"Brasília\", \"Moscow\", \"New Delhi\", \"Beijing\", \"Pretoria\"],\n",
    "    \"area\": [8.5, 17.1, 3.3, 9.6, 1.2],\n",
    "    \"population\": [211, 144, 1380, 1393, 58]\n",
    "}\n",
    "\n",
    "brics = pd.DataFrame(data)\n",
    "brics.index = [\"BR\", \"RU\", \"IN\", \"CH\", \"SA\"]\n",
    "print(brics)"
   ]
  },
  {
   "cell_type": "markdown",
   "metadata": {},
   "source": [
    "To manipulate DataFrames, you can use some common methods and attributes:"
   ]
  },
  {
   "cell_type": "markdown",
   "metadata": {},
   "source": [
    "1. Displays the first few rows of the DataFrame using `head()`: "
   ]
  },
  {
   "cell_type": "code",
   "execution_count": 18,
   "metadata": {},
   "outputs": [
    {
     "name": "stdout",
     "output_type": "stream",
     "text": [
      "         country    capital  area  population\n",
      "BR        Brazil   Brasília   8.5         211\n",
      "RU        Russia     Moscow  17.1         144\n",
      "IN         India  New Delhi   3.3        1380\n",
      "CH         China    Beijing   9.6        1393\n",
      "SA  South Africa   Pretoria   1.2          58\n"
     ]
    }
   ],
   "source": [
    "print(brics.head())"
   ]
  },
  {
   "cell_type": "markdown",
   "metadata": {},
   "source": [
    "2. Summarizes column names, data types, and missing values:"
   ]
  },
  {
   "cell_type": "code",
   "execution_count": 19,
   "metadata": {},
   "outputs": [
    {
     "name": "stdout",
     "output_type": "stream",
     "text": [
      "<class 'pandas.core.frame.DataFrame'>\n",
      "Index: 5 entries, BR to SA\n",
      "Data columns (total 4 columns):\n",
      " #   Column      Non-Null Count  Dtype  \n",
      "---  ------      --------------  -----  \n",
      " 0   country     5 non-null      object \n",
      " 1   capital     5 non-null      object \n",
      " 2   area        5 non-null      float64\n",
      " 3   population  5 non-null      int64  \n",
      "dtypes: float64(1), int64(1), object(2)\n",
      "memory usage: 200.0+ bytes\n",
      "None\n"
     ]
    }
   ],
   "source": [
    "print(brics.info())"
   ]
  },
  {
   "cell_type": "markdown",
   "metadata": {},
   "source": [
    "3. Returns the number of rows and columns as a tuple:  "
   ]
  },
  {
   "cell_type": "code",
   "execution_count": 20,
   "metadata": {},
   "outputs": [
    {
     "name": "stdout",
     "output_type": "stream",
     "text": [
      "(5, 4)\n"
     ]
    }
   ],
   "source": [
    "print(brics.shape)"
   ]
  },
  {
   "cell_type": "markdown",
   "metadata": {},
   "source": [
    "4. Computes summary statistics for numerical columns:  "
   ]
  },
  {
   "cell_type": "code",
   "execution_count": 21,
   "metadata": {},
   "outputs": [
    {
     "name": "stdout",
     "output_type": "stream",
     "text": [
      "            area   population\n",
      "count   5.000000     5.000000\n",
      "mean    7.940000   637.200000\n",
      "std     6.203467   686.176144\n",
      "min     1.200000    58.000000\n",
      "25%     3.300000   144.000000\n",
      "50%     8.500000   211.000000\n",
      "75%     9.600000  1380.000000\n",
      "max    17.100000  1393.000000\n"
     ]
    }
   ],
   "source": [
    "print(brics.describe())"
   ]
  },
  {
   "cell_type": "markdown",
   "metadata": {},
   "source": [
    "5. Retrieves column names and row labels: "
   ]
  },
  {
   "cell_type": "code",
   "execution_count": 22,
   "metadata": {},
   "outputs": [
    {
     "name": "stdout",
     "output_type": "stream",
     "text": [
      "Index(['country', 'capital', 'area', 'population'], dtype='object')\n",
      "Index(['BR', 'RU', 'IN', 'CH', 'SA'], dtype='object')\n"
     ]
    }
   ],
   "source": [
    "print(brics.columns)\n",
    "print(brics.index)"
   ]
  },
  {
   "cell_type": "markdown",
   "metadata": {},
   "source": [
    "6. Accesses the data as a 2D NumPy array:  "
   ]
  },
  {
   "cell_type": "code",
   "execution_count": 23,
   "metadata": {},
   "outputs": [
    {
     "name": "stdout",
     "output_type": "stream",
     "text": [
      "[['Brazil' 'Brasília' 8.5 211]\n",
      " ['Russia' 'Moscow' 17.1 144]\n",
      " ['India' 'New Delhi' 3.3 1380]\n",
      " ['China' 'Beijing' 9.6 1393]\n",
      " ['South Africa' 'Pretoria' 1.2 58]]\n"
     ]
    }
   ],
   "source": [
    "print(brics.values)"
   ]
  }
 ],
 "metadata": {
  "kernelspec": {
   "display_name": "Python 3",
   "language": "python",
   "name": "python3"
  },
  "language_info": {
   "codemirror_mode": {
    "name": "ipython",
    "version": 3
   },
   "file_extension": ".py",
   "mimetype": "text/x-python",
   "name": "python",
   "nbconvert_exporter": "python",
   "pygments_lexer": "ipython3",
   "version": "3.11.9"
  }
 },
 "nbformat": 4,
 "nbformat_minor": 2
}
