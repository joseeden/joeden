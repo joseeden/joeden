{
 "cells": [
  {
   "cell_type": "markdown",
   "metadata": {},
   "source": [
    "<a href=\"https://colab.research.google.com/github/joseeden/joeden/blob/master/docs/021-Software-Engineering/021-Jupyter-Notebooks/004-aggregating_data.ipynb\" target=\"_parent\"><img src=\"https://colab.research.google.com/assets/colab-badge.svg\" alt=\"Open In Colab\"/></a>"
   ]
  },
  {
   "cell_type": "markdown",
   "metadata": {},
   "source": [
    "## Walmart Dataset Overview  \n",
    "\n",
    "The dataset contains weekly sales data for Walmart stores, including:  \n",
    "\n",
    "- Store ID and type  \n",
    "- Weekly sales and department IDs  \n",
    "- Holiday week indicator  \n",
    "- Average temperature and fuel prices  \n",
    "- National unemployment rate  \n",
    "\n",
    "The dataset can be downloaded here: [sales_subset.csv](@site/assets/datasets/pandas-aggregating-data/sales_subset.csv)\n",
    "\n",
    "Sample rows:  \n",
    "\n",
    "| Store | Sales    | Dept | Holiday | Temp (°C) | Fuel Price (USD/L) | Unemployment |\n",
    "|-------|----------|------|---------|-----------|---------------------|--------------|\n",
    "|   1   | 24924.50 |   1  |    0    |   5.73    |         0.68        |     8.11     |\n",
    "|   1   | 21827.90 |   1  |    0    |   8.06    |         0.69        |     8.11     |\n",
    "|   1   | 57258.43 |   1  |    0    |  16.82    |         0.72        |     7.81     |\n",
    "|   1   | 17413.94 |   1  |    0    |  22.53    |         0.75        |     7.81     |\n",
    "|   1   | 17558.09 |   1  |    0    |  27.05    |         0.71        |     7.81     |\n",
    "|   1   | 16333.14 |   1  |    0    |  27.17    |         0.71        |     7.79     | \n",
    "\n",
    "Import the dataset and create a DataFrame:"
   ]
  },
  {
   "cell_type": "code",
   "execution_count": 2,
   "metadata": {},
   "outputs": [
    {
     "name": "stdout",
     "output_type": "stream",
     "text": [
      "       Unnamed: 0  store type  department        date  weekly_sales  \\\n",
      "0               0      1    A           1  2010-02-05      24924.50   \n",
      "1               1      1    A           1  2010-03-05      21827.90   \n",
      "2               2      1    A           1  2010-04-02      57258.43   \n",
      "3               3      1    A           1  2010-05-07      17413.94   \n",
      "4               4      1    A           1  2010-06-04      17558.09   \n",
      "...           ...    ...  ...         ...         ...           ...   \n",
      "10769       10769     39    A          99  2011-12-09        895.00   \n",
      "10770       10770     39    A          99  2012-02-03        350.00   \n",
      "10771       10771     39    A          99  2012-06-08        450.00   \n",
      "10772       10772     39    A          99  2012-07-13          0.06   \n",
      "10773       10773     39    A          99  2012-10-05        915.00   \n",
      "\n",
      "       is_holiday  temperature_c  fuel_price_usd_per_l  unemployment  \n",
      "0           False       5.727778              0.679451         8.106  \n",
      "1           False       8.055556              0.693452         8.106  \n",
      "2           False      16.816667              0.718284         7.808  \n",
      "3           False      22.527778              0.748928         7.808  \n",
      "4           False      27.050000              0.714586         7.808  \n",
      "...           ...            ...                   ...           ...  \n",
      "10769       False       9.644444              0.834256         7.716  \n",
      "10770       False      15.938889              0.887619         7.244  \n",
      "10771       False      27.288889              0.911922         6.989  \n",
      "10772       False      25.644444              0.860145         6.623  \n",
      "10773       False      22.250000              0.955511         6.228  \n",
      "\n",
      "[10774 rows x 10 columns]\n"
     ]
    }
   ],
   "source": [
    "import pandas as pd\n",
    "\n",
    "# Use URL , so that notebook can be ran from Google Colab without downloading csv file\n",
    "url = 'https://raw.githubusercontent.com/joseeden/joeden/refs/heads/master/assets/datasets/pandas-aggregating-data/sales_subset.csv'\n",
    "sales = pd.read_csv(url)\n",
    "print(sales)"
   ]
  },
  {
   "cell_type": "markdown",
   "metadata": {},
   "source": [
    "# Mean and Median\n",
    "\n",
    "Print information about the columns in sales."
   ]
  },
  {
   "cell_type": "markdown",
   "metadata": {},
   "source": [
    "Print the mean of the weekly_sales column."
   ]
  },
  {
   "cell_type": "markdown",
   "metadata": {},
   "source": [
    "Print the median of the weekly_sales column."
   ]
  }
 ],
 "metadata": {
  "kernelspec": {
   "display_name": "Python 3",
   "language": "python",
   "name": "python3"
  },
  "language_info": {
   "codemirror_mode": {
    "name": "ipython",
    "version": 3
   },
   "file_extension": ".py",
   "mimetype": "text/x-python",
   "name": "python",
   "nbconvert_exporter": "python",
   "pygments_lexer": "ipython3",
   "version": "3.11.9"
  }
 },
 "nbformat": 4,
 "nbformat_minor": 2
}
