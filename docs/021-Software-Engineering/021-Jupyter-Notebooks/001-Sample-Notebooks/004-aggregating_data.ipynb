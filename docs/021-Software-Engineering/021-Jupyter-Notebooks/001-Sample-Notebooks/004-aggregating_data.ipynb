{
 "cells": [
  {
   "cell_type": "markdown",
   "metadata": {},
   "source": [
    "<a href=\"https://colab.research.google.com/github/joseeden/joeden/blob/master/docs/021-Software-Engineering/021-Jupyter-Notebooks/004-aggregating_data.ipynb\" target=\"_parent\"><img src=\"https://colab.research.google.com/assets/colab-badge.svg\" alt=\"Open In Colab\"/></a>"
   ]
  },
  {
   "cell_type": "markdown",
   "metadata": {},
   "source": [
    "## Walmart Dataset Overview  \n",
    "\n",
    "The dataset contains weekly sales data for Walmart stores, including:  \n",
    "\n",
    "- Store ID and type  \n",
    "- Weekly sales and department IDs  \n",
    "- Holiday week indicator  \n",
    "- Average temperature and fuel prices  \n",
    "- National unemployment rate  \n",
    "\n",
    "THe dataset can be downloaded here: [sales_subset.csv](@site/assets/datasets/pandas-aggregating-data/sales_subset.csv)\n",
    "\n",
    "Sample rows:  \n",
    "\n",
    "| Store | Sales    | Dept | Holiday | Temp (°C) | Fuel Price (USD/L) | Unemployment |\n",
    "|-------|----------|------|---------|-----------|---------------------|--------------|\n",
    "|   1   | 24924.50 |   1  |    0    |   5.73    |         0.68        |     8.11     |\n",
    "|   1   | 21827.90 |   1  |    0    |   8.06    |         0.69        |     8.11     |\n",
    "|   1   | 57258.43 |   1  |    0    |  16.82    |         0.72        |     7.81     |\n",
    "|   1   | 17413.94 |   1  |    0    |  22.53    |         0.75        |     7.81     |\n",
    "|   1   | 17558.09 |   1  |    0    |  27.05    |         0.71        |     7.81     |\n",
    "|   1   | 16333.14 |   1  |    0    |  27.17    |         0.71        |     7.79     | \n",
    "\n",
    "Import the dataset and create a DataFrame:"
   ]
  },
  {
   "cell_type": "code",
   "execution_count": null,
   "metadata": {},
   "outputs": [],
   "source": [
    "import pandas as pd\n",
    "\n",
    "# Use URL , so that notebook can be ran from Google Colab without downloading csv file\n",
    "url = 'https://raw.githubusercontent.com/joseeden/joeden/refs/heads/master/assets/datasets/pandas-aggregating-data/sales_subset.csv'\n",
    "sales = pd.read_csv(url)"
   ]
  },
  {
   "cell_type": "markdown",
   "metadata": {},
   "source": [
    "# Mean and Median\n",
    "\n",
    "Print information about the columns in sales."
   ]
  },
  {
   "cell_type": "markdown",
   "metadata": {},
   "source": [
    "Print the mean of the weekly_sales column."
   ]
  },
  {
   "cell_type": "markdown",
   "metadata": {},
   "source": [
    "Print the median of the weekly_sales column."
   ]
  }
 ],
 "metadata": {
  "language_info": {
   "name": "python"
  }
 },
 "nbformat": 4,
 "nbformat_minor": 2
}
