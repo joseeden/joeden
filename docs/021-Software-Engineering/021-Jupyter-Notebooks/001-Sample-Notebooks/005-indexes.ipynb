{
 "cells": [
  {
   "cell_type": "markdown",
   "metadata": {},
   "source": [
    "<a href=\"https://colab.research.google.com/github/joseeden/joeden/blob/master/docs/021-Software-Engineering/021-Jupyter-Notebooks/001-Sample-Notebooks/005-indexes.ipynb\" target=\"_parent\"><img src=\"https://colab.research.google.com/assets/colab-badge.svg\" alt=\"Open In Colab\"/></a>"
   ]
  },
  {
   "cell_type": "markdown",
   "metadata": {},
   "source": [
    "# Setting and removing indexes  \n",
    "\n",
    "In pandas, you can use a column as an index to simplify subsetting and sometimes improve lookup performance.\n",
    "\n",
    "Todo: \n",
    "\n",
    "- Set the index of temperatures to \"city\", assigning to `temperatures_ind`.\n",
    "- Look at `temperatures_ind`. How is it different from temperatures?\n",
    "- Reset the index of `temperatures_ind`, keeping its contents.\n",
    "- Reset the index of `temperatures_ind`, dropping its contents."
   ]
  },
  {
   "cell_type": "markdown",
   "metadata": {},
   "source": [
    "Import the dataset and save as `temperatures` dataframe."
   ]
  },
  {
   "cell_type": "code",
   "execution_count": null,
   "metadata": {},
   "outputs": [],
   "source": [
    "import pandas as pd \n",
    "\n",
    "url = 'https://raw.githubusercontent.com/joseeden/joeden/refs/heads/master/docs/021-Software-Engineering/021-Jupyter-Notebooks/000-Sample-Datasets/data-manipulation-using-pandas/temperatures.csv'\n",
    "temperatures = pd.read_csv(url)\n",
    "\n",
    "print(temperatures.head())"
   ]
  },
  {
   "cell_type": "markdown",
   "metadata": {},
   "source": [
    "Set the index to \"city\"."
   ]
  },
  {
   "cell_type": "code",
   "execution_count": null,
   "metadata": {},
   "outputs": [],
   "source": [
    "temperatures_ind = temperatures.set_index(\"city\")\n",
    "print(temperatures_ind)"
   ]
  },
  {
   "cell_type": "markdown",
   "metadata": {},
   "source": [
    "Reset the `temperatures_ind` index, keeping its contents"
   ]
  },
  {
   "cell_type": "code",
   "execution_count": null,
   "metadata": {},
   "outputs": [],
   "source": [
    "print(temperatures_ind.reset_index())"
   ]
  },
  {
   "cell_type": "markdown",
   "metadata": {},
   "source": [
    "Reset the `temperatures_ind` index, dropping its contents"
   ]
  },
  {
   "cell_type": "code",
   "execution_count": null,
   "metadata": {},
   "outputs": [],
   "source": [
    "print(temperatures_ind.reset_index(drop=True))"
   ]
  },
  {
   "cell_type": "markdown",
   "metadata": {},
   "source": [
    "# Subsetting \n",
    "\n",
    "The `.loc[]` method is a powerful way to subset rows using index values. It simplifies code compared to standard square bracket subsetting, making it easier to read and maintain.\n",
    "\n",
    "Todo: \n",
    "\n",
    "- Create a list called cities that contains \"Moscow\" and \"Saint Petersburg\".\n",
    "- Use [] subsetting to filter temperatures for rows where the city column takes a value in the cities list.\n",
    "- Use .loc[] subsetting to filter temperatures_ind for rows where the city is in the cities list."
   ]
  },
  {
   "cell_type": "markdown",
   "metadata": {},
   "source": [
    "Make a list of cities to subset on. then subset temperatures using square brackets"
   ]
  },
  {
   "cell_type": "code",
   "execution_count": null,
   "metadata": {},
   "outputs": [],
   "source": [
    "cities = [\"Moscow\", \"Saint Petersburg\"]\n",
    "\n",
    "print(temperatures[\n",
    "    temperatures[\"city\"].isin(cities)\n",
    "])\n"
   ]
  },
  {
   "cell_type": "markdown",
   "metadata": {},
   "source": [
    "Subset `temperatures_ind` using `.loc[]`"
   ]
  },
  {
   "cell_type": "code",
   "execution_count": null,
   "metadata": {},
   "outputs": [],
   "source": [
    "print(temperatures_ind.loc[cities])"
   ]
  },
  {
   "cell_type": "markdown",
   "metadata": {},
   "source": [
    "# Setting Multi-Level Indexes  \n",
    "\n",
    "A multi-level index, also called a **hierarchical index**, uses multiple columns as the index. This approach can simplify working with nested categories. For example, in a clinical trial, test subjects can be grouped under control or treatment groups, and in a dataset, cities can be grouped within countries. \n",
    "\n",
    "However, working with indexes has a downside: the syntax for handling them differs from working with columns, so you need to learn two approaches and keep track of the data structure.\n",
    "\n",
    "Todo:\n",
    "\n",
    "- Set the index of temperatures to the \"country\" and \"city\" columns, and assign this to temperatures_ind.\n",
    "- Specify two country/city pairs to keep: \"Brazil\"/\"Rio De Janeiro\" and \"Pakistan\"/\"Lahore\", assigning to rows_to_keep.\n",
    "- Print and subset temperatures_ind for rows_to_keep using .loc[]."
   ]
  },
  {
   "cell_type": "markdown",
   "metadata": {},
   "source": [
    "Index temperatures by country & city"
   ]
  },
  {
   "cell_type": "code",
   "execution_count": null,
   "metadata": {},
   "outputs": [],
   "source": [
    "temperatures_ind = temperatures.set_index([\n",
    "    \"country\",\n",
    "    \"city\"\n",
    "])\n",
    "print(temperatures_ind)"
   ]
  },
  {
   "cell_type": "markdown",
   "metadata": {},
   "source": [
    "Create the tuples and then use it to subset for rows to keep."
   ]
  },
  {
   "cell_type": "code",
   "execution_count": null,
   "metadata": {},
   "outputs": [],
   "source": [
    "rows_to_keep = [\n",
    "    (\"Brazil\", \"Rio De Janeiro\"),\n",
    "    (\"Pakistan\", \"Lahore\")\n",
    "]\n",
    "\n",
    "print(temperatures_ind.loc[rows_to_keep])"
   ]
  },
  {
   "cell_type": "markdown",
   "metadata": {},
   "source": [
    "# Sorting by Index  \n",
    "\n",
    "In addition to sorting rows with `.sort_values()`, you can rearrange rows based on index values using `.sort_index()`. This helps organize data more effectively when working with indexed DataFrames.\n",
    "\n",
    "Todo:\n",
    "\n",
    "- Sort `temperatures_ind` by the index values.\n",
    "- Sort `temperatures_ind` by the index values at the \"city\" level.\n",
    "- Sort `temperatures_ind` by ascending country then descending city."
   ]
  },
  {
   "cell_type": "markdown",
   "metadata": {},
   "source": [
    "Sort `temperatures_ind` by the index values."
   ]
  },
  {
   "cell_type": "code",
   "execution_count": null,
   "metadata": {},
   "outputs": [],
   "source": [
    "print(temperatures_ind.sort_index())"
   ]
  },
  {
   "cell_type": "markdown",
   "metadata": {},
   "source": [
    "Sort `temperatures_ind` by the index values at the \"city\" level."
   ]
  },
  {
   "cell_type": "code",
   "execution_count": null,
   "metadata": {},
   "outputs": [],
   "source": [
    "print(temperatures_ind.sort_index(level=\"city\"))"
   ]
  },
  {
   "cell_type": "markdown",
   "metadata": {},
   "source": [
    "Sort `temperatures_ind` by ascending country then descending city."
   ]
  },
  {
   "cell_type": "code",
   "execution_count": null,
   "metadata": {},
   "outputs": [],
   "source": [
    "print(temperatures_ind.sort_index(\n",
    "    level=[\"country\", \"city\"],\n",
    "    ascending=[True, False]\n",
    "))\n"
   ]
  },
  {
   "cell_type": "markdown",
   "metadata": {},
   "source": [
    "# Slicing index values\n",
    "\n",
    "Slicing allows you to select consecutive elements using the `first:last` syntax. For DataFrames, slicing by index values is done inside the `.loc[]` method.\n",
    "\n",
    "- The index must be sorted (`.sort_index()`) before slicing.\n",
    "- Use strings for slicing outer-level indexes.\n",
    "- Use tuples for slicing inner-level indexes.\n",
    "- A single slice passed to `.loc[]` slices the rows.\n",
    "\n",
    "Todo:\n",
    "\n",
    "- Sort the index of `temperatures_ind`.\n",
    "- Use slicing with `.loc[]` to get these subsets:\n",
    "  - from Pakistan to Russia.\n",
    "  - from Lahore to Moscow. (This will return nonsense.)\n",
    "  - from Pakistan, Lahore to Russia, Moscow."
   ]
  },
  {
   "cell_type": "markdown",
   "metadata": {},
   "source": [
    "Sort the index of `temperatures_ind`"
   ]
  },
  {
   "cell_type": "code",
   "execution_count": null,
   "metadata": {},
   "outputs": [],
   "source": [
    "temperatures_srt = temperatures_ind.sort_index()\n",
    "print(temperatures_srt)"
   ]
  },
  {
   "cell_type": "markdown",
   "metadata": {},
   "source": [
    "Subset rows from Pakistan to Russia. You'll be slicing at the outer level index, which is the country."
   ]
  },
  {
   "cell_type": "code",
   "execution_count": null,
   "metadata": {},
   "outputs": [],
   "source": [
    "print(temperatures_srt.loc[\"Pakistan\":\"Russia\"])"
   ]
  },
  {
   "cell_type": "markdown",
   "metadata": {},
   "source": [
    "Try to subset rows from Lahore to Moscow. Since the indexing is on the inner level, it requires that first and last argument are tuples. The command below will return incorrect values."
   ]
  },
  {
   "cell_type": "code",
   "execution_count": null,
   "metadata": {},
   "outputs": [],
   "source": [
    "print(temperatures_srt.loc[\"Lahore\":\"Moscow\"])"
   ]
  },
  {
   "cell_type": "markdown",
   "metadata": {},
   "source": [
    "Subset rows from Pakistan, Lahore to Russia, Moscow. Use the same command above, but this time use the correct tuples."
   ]
  },
  {
   "cell_type": "code",
   "execution_count": null,
   "metadata": {},
   "outputs": [],
   "source": [
    "print(temperatures_srt.loc[(\"Pakistan\", \"Lahore\"):(\"Russia\", \"Moscow\")])"
   ]
  },
  {
   "cell_type": "markdown",
   "metadata": {},
   "source": [
    "# Slicing in both directions\n",
    "\n",
    "You can slice both rows and columns at once in a DataFrame. By passing two arguments to `.loc[]`, you can subset the DataFrame by both rows and columns in one step.\n",
    "\n",
    "Todo:\n",
    "\n",
    "- Use `.loc[]` slicing to subset rows from India, Hyderabad to Iraq, Baghdad.\n",
    "- Use `.loc[]` slicing to subset columns from `date` to `avg_temp_c`.\n",
    "- Slice in both directions at once from Hyderabad to Baghdad, and `date` to `avg_temp_c`."
   ]
  },
  {
   "cell_type": "markdown",
   "metadata": {},
   "source": [
    "Print the dataframe that has been indexed by country and city, and then sorted."
   ]
  },
  {
   "cell_type": "code",
   "execution_count": null,
   "metadata": {},
   "outputs": [],
   "source": [
    "print(temperatures_srt)"
   ]
  },
  {
   "cell_type": "markdown",
   "metadata": {},
   "source": [
    "Subset rows from India, Hyderabad to Iraq, Baghdad"
   ]
  },
  {
   "cell_type": "code",
   "execution_count": null,
   "metadata": {},
   "outputs": [],
   "source": [
    "print(temperatures_srt.loc[(\"India\", \"Hyderabad\"):(\"Iraq\", \"Baghdad\")])"
   ]
  },
  {
   "cell_type": "markdown",
   "metadata": {},
   "source": [
    "Subset columns from date to avg_temp_c"
   ]
  },
  {
   "cell_type": "code",
   "execution_count": null,
   "metadata": {},
   "outputs": [],
   "source": [
    "print(temperatures_srt.loc[:, \"date\":\"avg_temp_c\"])"
   ]
  },
  {
   "cell_type": "markdown",
   "metadata": {},
   "source": [
    "Subset in both directions at once"
   ]
  },
  {
   "cell_type": "code",
   "execution_count": null,
   "metadata": {},
   "outputs": [],
   "source": [
    "print(temperatures_srt.loc[\n",
    "    (\"India\", \"Hyderabad\"):(\"Iraq\", \"Baghdad\"), \n",
    "    \"date\":\"avg_temp_c\"\n",
    "    ])"
   ]
  },
  {
   "cell_type": "markdown",
   "metadata": {},
   "source": [
    "# Slicing time series\n",
    "\n",
    "Slicing is helpful for time series data, especially when filtering by a date range. Set the date column as the index and use `.loc[]` for subsetting. Ensure your dates are in ISO 8601 format: \"yyyy-mm-dd\" for full dates, \"yyyy-mm\" for months, and \"yyyy\" for years.\n",
    "\n",
    "Todo:\n",
    "\n",
    "- Use Boolean conditions, not .isin() or .loc[], and the full date \"yyyy-mm-dd\", to subset temperatures for rows where the date column is in 2010 and 2011 and print the results.\n",
    "- Set the index of temperatures to the date column and sort it.\n",
    "- Use .loc[] to subset temperatures_ind for rows in 2010 and 2011.\n",
    "- Use .loc[] to subset temperatures_ind for rows from August 2010 to February 2011."
   ]
  },
  {
   "cell_type": "markdown",
   "metadata": {},
   "source": [
    "Use Boolean conditions to subset temperatures for rows in 2010 and 2011"
   ]
  },
  {
   "cell_type": "code",
   "execution_count": null,
   "metadata": {},
   "outputs": [],
   "source": [
    "temperatures_bool = temperatures[\n",
    "    (temperatures[\"date\"] >= \"2010-01-01\") & \n",
    "    (temperatures[\"date\"] <= \"2011-12-31\") \n",
    "    ]\n",
    "print(temperatures_bool)"
   ]
  },
  {
   "cell_type": "markdown",
   "metadata": {},
   "source": [
    "Set date as the index and sort the index."
   ]
  },
  {
   "cell_type": "code",
   "execution_count": null,
   "metadata": {},
   "outputs": [],
   "source": [
    "temperatures_ind = temperatures.set_index(\"date\").sort_index()\n",
    "print(temperatures_ind)"
   ]
  },
  {
   "cell_type": "markdown",
   "metadata": {},
   "source": [
    "Use .loc[] to subset temperatures_ind for rows in 2010 and 2011."
   ]
  },
  {
   "cell_type": "code",
   "execution_count": null,
   "metadata": {},
   "outputs": [],
   "source": [
    "print(temperatures_ind.loc[\"2010-01-01\":\"2011-12-31\"])"
   ]
  },
  {
   "cell_type": "markdown",
   "metadata": {},
   "source": [
    "Use .loc[] to subset temperatures_ind for rows from Aug 2010 to Feb 2011."
   ]
  },
  {
   "cell_type": "code",
   "execution_count": null,
   "metadata": {},
   "outputs": [],
   "source": [
    "print(temperatures_ind.loc[\"2010-08-01\":\"2011-02-28\"])"
   ]
  },
  {
   "cell_type": "markdown",
   "metadata": {},
   "source": [
    "# Subsetting by row/column number\n",
    "\n",
    "Subsetting by row/column number is another way to filter data. Instead of using index labels or conditions, you can use row numbers with `.iloc[]`. Like `.loc[]`, `.iloc[]` accepts two arguments to subset both rows and columns.\n",
    "\n",
    "Todo:\n",
    "\n",
    "- Get the 23rd row, 2nd column (index positions 22 and 1).\n",
    "- Get the first 5 rows (index positions 0 to 5).\n",
    "- Get all rows, columns 3 and 4 (index positions 2 to 4).\n",
    "- Get the first 5 rows, columns 3 and 4."
   ]
  },
  {
   "cell_type": "markdown",
   "metadata": {},
   "source": [
    "Get 23rd row, 2nd column (index 22, 1)."
   ]
  },
  {
   "cell_type": "code",
   "execution_count": 73,
   "metadata": {},
   "outputs": [
    {
     "name": "stdout",
     "output_type": "stream",
     "text": [
      "2001-11-01\n"
     ]
    }
   ],
   "source": [
    "print(temperatures.iloc[22, 1])"
   ]
  },
  {
   "cell_type": "markdown",
   "metadata": {},
   "source": [
    "Use slicing to get the first 5 rows."
   ]
  },
  {
   "cell_type": "code",
   "execution_count": 74,
   "metadata": {},
   "outputs": [
    {
     "name": "stdout",
     "output_type": "stream",
     "text": [
      "   Unnamed: 0        date     city        country  avg_temp_c\n",
      "0           0  2000-01-01  Abidjan  Côte D'Ivoire      27.293\n",
      "1           1  2000-02-01  Abidjan  Côte D'Ivoire      27.685\n",
      "2           2  2000-03-01  Abidjan  Côte D'Ivoire      29.061\n",
      "3           3  2000-04-01  Abidjan  Côte D'Ivoire      28.162\n",
      "4           4  2000-05-01  Abidjan  Côte D'Ivoire      27.547\n",
      "5           5  2000-06-01  Abidjan  Côte D'Ivoire      25.812\n"
     ]
    }
   ],
   "source": [
    "print(temperatures.iloc[:6, :])"
   ]
  },
  {
   "cell_type": "markdown",
   "metadata": {},
   "source": [
    "Use slicing to get columns 3 to 4."
   ]
  },
  {
   "cell_type": "code",
   "execution_count": 75,
   "metadata": {},
   "outputs": [
    {
     "name": "stdout",
     "output_type": "stream",
     "text": [
      "          city        country\n",
      "0      Abidjan  Côte D'Ivoire\n",
      "1      Abidjan  Côte D'Ivoire\n",
      "2      Abidjan  Côte D'Ivoire\n",
      "3      Abidjan  Côte D'Ivoire\n",
      "4      Abidjan  Côte D'Ivoire\n",
      "...        ...            ...\n",
      "16495     Xian          China\n",
      "16496     Xian          China\n",
      "16497     Xian          China\n",
      "16498     Xian          China\n",
      "16499     Xian          China\n",
      "\n",
      "[16500 rows x 2 columns]\n"
     ]
    }
   ],
   "source": [
    "print(temperatures.iloc[:, 2:4])"
   ]
  },
  {
   "cell_type": "markdown",
   "metadata": {},
   "source": [
    "Use slicing in both directions at once."
   ]
  },
  {
   "cell_type": "code",
   "execution_count": 76,
   "metadata": {},
   "outputs": [
    {
     "name": "stdout",
     "output_type": "stream",
     "text": [
      "      city        country\n",
      "0  Abidjan  Côte D'Ivoire\n",
      "1  Abidjan  Côte D'Ivoire\n",
      "2  Abidjan  Côte D'Ivoire\n",
      "3  Abidjan  Côte D'Ivoire\n",
      "4  Abidjan  Côte D'Ivoire\n"
     ]
    }
   ],
   "source": [
    "print(temperatures.iloc[:5, 2:4])"
   ]
  }
 ],
 "metadata": {
  "kernelspec": {
   "display_name": "Python 3",
   "language": "python",
   "name": "python3"
  },
  "language_info": {
   "codemirror_mode": {
    "name": "ipython",
    "version": 3
   },
   "file_extension": ".py",
   "mimetype": "text/x-python",
   "name": "python",
   "nbconvert_exporter": "python",
   "pygments_lexer": "ipython3",
   "version": "3.11.9"
  }
 },
 "nbformat": 4,
 "nbformat_minor": 2
}
