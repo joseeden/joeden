{
 "cells": [
  {
   "cell_type": "markdown",
   "metadata": {},
   "source": [
    "<a href=\"https://colab.research.google.com/github/joseeden/joeden/blob/master/docs/021-Software-Engineering/021-Jupyter-Notebooks/001-Sample-Notebooks/007-merging-data-with-pandas.ipynb\" target=\"_parent\"><img src=\"https://colab.research.google.com/assets/colab-badge.svg\" alt=\"Open In Colab\"/></a>"
   ]
  },
  {
   "cell_type": "markdown",
   "metadata": {},
   "source": [
    "\n",
    "# Chicago Data Portal Dataset  \n",
    "\n",
    "Chicago is divided into 50 wards, each representing a local neighborhood. We will use the following tables:  \n",
    "\n",
    "- **The Ward Data**  \n",
    "\n",
    "  - Local government data, including office addresses.\n",
    "  - The wards table contains 50 rows and 4 columns.\n",
    "  - One row for each ward's government details.\n",
    "  - Download the file here: [chicago_wards.p](/docs/021-Software-Engineering/021-Jupyter-Notebooks/000-Sample-Datasets/joining-data-with-pandas/chicago_wards.p)\n",
    "\n",
    "- **Census table** \n",
    "  \n",
    "  - Population data for 2000 and 2010, percentage changes, and ward center addresses.  \n",
    "  - The census table has 50 rows and 6 columns\n",
    "  - Covers population data and ward center addresses.\n",
    "  - Download the file here: [chicago_census.p](/docs/021-Software-Engineering/021-Jupyter-Notebooks/000-Sample-Datasets/joining-data-with-pandas/chicago_census.p)\n",
    "\n",
    "- **Licenses Table**\n",
    "\n",
    "  - Holds information such as business addresses and the wards.\n",
    "  - Also related to the wards data through the `wards` column.\n",
    "  - Download the file here: [chicago_business_licenses.p](/docs/021-Software-Engineering/021-Jupyter-Notebooks/000-Sample-Datasets/joining-data-with-pandas/chicago_business_licenses.p)\n",
    "\n",
    "- **Business Owners**\n",
    "  - Contains records of business owners in different wards.\n",
    "  - Download the file here: [chicago_business_owners.p](/docs/021-Software-Engineering/021-Jupyter-Notebooks/000-Sample-Datasets/joining-data-with-pandas/chicago_business_owners.p)\n",
    "\n",
    "- **Demographics**\n",
    "  - Contains records of median income by zip code.\n",
    "  - Demographics information about the neighborhoods where the businesses are\n",
    "  - Download the file here: [chicago_zip_demograph.p](/docs/021-Software-Engineering/021-Jupyter-Notebooks/000-Sample-Datasets/joining-data-with-pandas/chicago_zip_demograph.p)\n",
    "\n",
    "- **Land Use**\n",
    "  - Contains on the percentage of vacant land by city ward\n",
    "  - Download the file here: [chicago_land_use.p](/docs/021-Software-Engineering/021-Jupyter-Notebooks/000-Sample-Datasets/joining-data-with-pandas/chicago_land_use.p)"
   ]
  },
  {
   "cell_type": "markdown",
   "metadata": {},
   "source": [
    "# Importing the Datasets\n",
    "\n",
    "Import the wards data:"
   ]
  },
  {
   "cell_type": "code",
   "execution_count": 112,
   "metadata": {},
   "outputs": [
    {
     "name": "stdout",
     "output_type": "stream",
     "text": [
      "  ward            alderman                          address    zip\n",
      "0    1  Proco \"Joe\" Moreno        2058 NORTH WESTERN AVENUE  60647\n",
      "1    2       Brian Hopkins       1400 NORTH  ASHLAND AVENUE  60622\n",
      "2    3          Pat Dowell          5046 SOUTH STATE STREET  60609\n",
      "3    4    William D. Burns  435 EAST 35TH STREET, 1ST FLOOR  60616\n",
      "4    5  Leslie A. Hairston            2325 EAST 71ST STREET  60649\n",
      "(50, 4)\n"
     ]
    }
   ],
   "source": [
    "import pandas as pd \n",
    "\n",
    "url = 'https://raw.githubusercontent.com/joseeden/joeden/refs/heads/master/docs/021-Software-Engineering/021-Jupyter-Notebooks/000-Sample-Datasets/joining-data-with-pandas/chicago_wards.p'\n",
    "\n",
    "wards = pd.read_pickle(url)\n",
    "print(wards.head())\n",
    "print(wards.shape)"
   ]
  },
  {
   "cell_type": "markdown",
   "metadata": {},
   "source": [
    "Import the census data:"
   ]
  },
  {
   "cell_type": "code",
   "execution_count": 113,
   "metadata": {},
   "outputs": [
    {
     "name": "stdout",
     "output_type": "stream",
     "text": [
      "  ward  pop_2000  pop_2010 change                                  address  \\\n",
      "0    1     52951     56149     6%              2765 WEST SAINT MARY STREET   \n",
      "1    2     54361     55805     3%                 WM WASTE MANAGEMENT 1500   \n",
      "2    3     40385     53039    31%                      17 EAST 38TH STREET   \n",
      "3    4     51953     54589     5%  31ST ST HARBOR BUILDING LAKEFRONT TRAIL   \n",
      "4    5     55302     51455    -7%  JACKSON PARK LAGOON SOUTH CORNELL DRIVE   \n",
      "\n",
      "     zip  \n",
      "0  60647  \n",
      "1  60622  \n",
      "2  60653  \n",
      "3  60653  \n",
      "4  60637  \n",
      "(50, 6)\n"
     ]
    }
   ],
   "source": [
    "import pandas as pd \n",
    "\n",
    "url = 'https://raw.githubusercontent.com/joseeden/joeden/refs/heads/master/docs/021-Software-Engineering/021-Jupyter-Notebooks/000-Sample-Datasets/joining-data-with-pandas/chicago_census.p'\n",
    "\n",
    "census = pd.read_pickle(url)\n",
    "print(census.head())\n",
    "print(census.shape)"
   ]
  },
  {
   "cell_type": "markdown",
   "metadata": {},
   "source": [
    "Import the licenses data:"
   ]
  },
  {
   "cell_type": "code",
   "execution_count": null,
   "metadata": {},
   "outputs": [],
   "source": [
    "import pandas as pd \n",
    "\n",
    "url = 'https://raw.githubusercontent.com/joseeden/joeden/refs/heads/master/docs/021-Software-Engineering/021-Jupyter-Notebooks/000-Sample-Datasets/joining-data-with-pandas/chicago_business_licenses.p'\n",
    "\n",
    "licenses = pd.read_pickle(url)\n",
    "print(licenses.head())\n",
    "print(licenses.shape)"
   ]
  },
  {
   "cell_type": "markdown",
   "metadata": {},
   "source": [
    "Import the business owners data:"
   ]
  },
  {
   "cell_type": "code",
   "execution_count": null,
   "metadata": {},
   "outputs": [],
   "source": [
    "import pandas as pd \n",
    "\n",
    "url = 'https://raw.githubusercontent.com/joseeden/joeden/refs/heads/master/docs/021-Software-Engineering/021-Jupyter-Notebooks/000-Sample-Datasets/joining-data-with-pandas/chicago_business_owners.p'\n",
    "\n",
    "biz_owners = pd.read_pickle(url)\n",
    "print(biz_owners.head())\n",
    "print(biz_owners.shape)"
   ]
  },
  {
   "cell_type": "markdown",
   "metadata": {},
   "source": [
    "Import the demographics table:"
   ]
  },
  {
   "cell_type": "code",
   "execution_count": null,
   "metadata": {},
   "outputs": [],
   "source": [
    "import pandas as pd \n",
    "\n",
    "url = 'https://raw.githubusercontent.com/joseeden/joeden/refs/heads/master/docs/021-Software-Engineering/021-Jupyter-Notebooks/000-Sample-Datasets/joining-data-with-pandas/chicago_zip_demograph.p'\n",
    "\n",
    "zip_demo = pd.read_pickle(url)\n",
    "print(zip_demo.head())\n",
    "print(zip_demo.shape)"
   ]
  },
  {
   "cell_type": "markdown",
   "metadata": {},
   "source": [
    "Import the land use table."
   ]
  },
  {
   "cell_type": "code",
   "execution_count": null,
   "metadata": {},
   "outputs": [],
   "source": [
    "import pandas as pd \n",
    "\n",
    "url = 'https://raw.githubusercontent.com/joseeden/joeden/refs/heads/master/docs/021-Software-Engineering/021-Jupyter-Notebooks/000-Sample-Datasets/joining-data-with-pandas/chicago_land_use.p'\n",
    "\n",
    "land_use = pd.read_pickle(url)\n",
    "print(land_use.head())\n",
    "print(land_use.shape)"
   ]
  },
  {
   "cell_type": "markdown",
   "metadata": {},
   "source": [
    "# Merging Tables  \n",
    "\n",
    "The tables are related by the **ward** column. Using this column, we can merge the wards table with the census table, matching rows based on ward numbers.\n",
    "\n",
    "Using pandas' `merge` method, we can combine the two DataFrames. The `on` argument specifies the **ward** column for the merge. The resulting DataFrame includes 50 rows and 9 columns, showing only rows with matching ward values in both tables. This is called an **inner join**.\n",
    "\n",
    "The wards table is considered the \"left table\" and thus the column from this table will appear first, followed by the census table (\"right table\") columns."
   ]
  },
  {
   "cell_type": "code",
   "execution_count": null,
   "metadata": {},
   "outputs": [],
   "source": [
    "wards_census = wards.merge(census, on='ward')\n",
    "print(wards_census.head(6))"
   ]
  },
  {
   "cell_type": "markdown",
   "metadata": {},
   "source": [
    "Merged tables may include columns with suffixes like `_x` or `_y` when both tables have overlapping column names (e.g., address or zip)."
   ]
  },
  {
   "cell_type": "markdown",
   "metadata": {},
   "source": [
    "# Controlling Suffixes  \n",
    "\n",
    "The `suffix` argument in `merge` allows customization. For instance, suffixes can be set to `'_ward'` for the left table and `'_cen'` for the right, making it easier to distinguish columns."
   ]
  },
  {
   "cell_type": "code",
   "execution_count": null,
   "metadata": {},
   "outputs": [],
   "source": [
    "wards_census = wards.merge(census, on='ward', suffixes=('_ward', '_cen'))\n",
    "print(wards_census.head())\n",
    "print(wards_census.shape)"
   ]
  },
  {
   "cell_type": "markdown",
   "metadata": {},
   "source": [
    "# Types of Relationships\n",
    "\n",
    "- **One-to-One**\n",
    "\n",
    "  - Each row in the left table matches exactly one row in the right table.\n",
    "  - Example: The relationship between the *wards* and *census* tables.\n",
    "    - Each ward in the *wards* table corresponds to one population entry in the *census* table.\n",
    "    - For instance, ward 3 appears only once in both tables, ensuring a single population value for each ward.\n",
    "\n",
    "- **One-to-Many**\n",
    "\n",
    "- Each row in the left table can relate to multiple rows in the right table.\n",
    "- Example: The relationship between the *wards* table and a *licenses* table containing business licenses.\n",
    "  - Each ward can have many businesses, so rows in the *wards* table are repeated when merged with the *licenses* table.\n",
    "  - For instance, ward 1 and its alderman appear multiple times due to many businesses in the 1st ward."
   ]
  },
  {
   "cell_type": "markdown",
   "metadata": {},
   "source": [
    "# Merging One-to-Many\n",
    "\n",
    "Merging is performed using the `merge` method with the `on` attribute set to the shared column, e.g., *ward*. The resulting table combines ward data with all matching rows from the business license data.\n",
    "\n",
    "Example: The *wards* table has 50 rows. \n",
    "\n",
    "- After merging with the *licenses* table, the new table has 10,000 rows.\n",
    "- Number of rows in the resulting table is often larger than in the left table."
   ]
  },
  {
   "cell_type": "code",
   "execution_count": null,
   "metadata": {},
   "outputs": [],
   "source": [
    "wards_licenses = wards.merge(licenses, on='ward', suffixes=('_ward', '_lic'))\n",
    "print(wards_licenses.head())\n",
    "print(wards_licenses.shape)"
   ]
  },
  {
   "cell_type": "markdown",
   "metadata": {},
   "source": [
    "Next, merge the business owners table with the licenses table to find out what is the most common business owner title. After merging, group the results by title and then count the number of accounts."
   ]
  },
  {
   "cell_type": "code",
   "execution_count": null,
   "metadata": {},
   "outputs": [],
   "source": [
    "licenses_owners = licenses.merge(biz_owners, on='account')\n",
    "\n",
    "counted_df = licenses_owners.groupby(\"title\").agg({'account':'count'})\n",
    "sorted_df = counted_df.sort_values(by='account', ascending=False)\n",
    "print(sorted_df.head())"
   ]
  },
  {
   "cell_type": "markdown",
   "metadata": {},
   "source": [
    "# Merging Multiple DataFrames\n",
    "\n",
    "Merging multiple DataFrames allows you to combine related data from different tables into a single table for analysis. This is useful when data is spread across multiple sources.\n",
    "\n",
    "Consider the three dataframes: licenses, wards, and zip_demo.\n",
    "\n",
    "A reasonable extension of our review of Chicago business data would include looking at demographics information about the neighborhoods where the businesses are. For this, we'll use the demographics table.\n",
    "\n",
    "Merge licenses and zip_demo, on zip; and merge the wards on ward. Next, group the results of the three merged tables by the column `alderman` and find the median `income`."
   ]
  },
  {
   "cell_type": "code",
   "execution_count": null,
   "metadata": {},
   "outputs": [],
   "source": [
    "licenses_zip_ward = licenses.merge(zip_demo, on='zip') \\\n",
    "            \t\t\t.merge(wards, on='ward')\n",
    "\n",
    "print(licenses_zip_ward.groupby('alderman').agg({'income':'median'}))"
   ]
  },
  {
   "cell_type": "markdown",
   "metadata": {},
   "source": [
    "# One-to-Many Merge with Multiple Tables\n",
    "\n",
    "In this step, you are planning to start a lawn care business in Chicago. To find the best location for your goat farm, you need an area with plenty of space and few nearby businesses or residents to avoid complaints about odor. \n",
    "\n",
    "To make an informed decision, you'll merge three tables: \n",
    "\n",
    "- the `land_use` table (showing vacant land by ward), \n",
    "- the `census` table (providing population data by ward), and \n",
    "- the `licenses` table (listing businesses by ward)."
   ]
  },
  {
   "cell_type": "code",
   "execution_count": null,
   "metadata": {},
   "outputs": [],
   "source": [
    "# Merge land_use and census and merge result with licenses including suffixes\n",
    "land_cen_lic = land_use.merge(census, on='ward') \\\n",
    "                    .merge(licenses, on='ward', suffixes=('_cen','_lic'))\n",
    "\n",
    "# Group by ward, pop_2010, and vacant, then count the # of accounts\n",
    "pop_vac_lic = land_cen_lic.groupby(['ward','pop_2010','vacant'], \n",
    "                                   as_index=False).agg({'account':'count'})\n",
    "\n",
    "# Sort pop_vac_lic and print the results\n",
    "sorted_pop_vac_lic = pop_vac_lic.sort_values(\n",
    "                            ['vacant', 'account', 'pop_2010'], \n",
    "                            ascending=[False, True, True])\n",
    "\n",
    "# Print the top few rows of sorted_pop_vac_lic\n",
    "print(sorted_pop_vac_lic.head())"
   ]
  },
  {
   "attachments": {
    "image.png": {
     "image/png": "[encoded data removed]"
    }
   },
   "cell_type": "markdown",
   "metadata": {},
   "source": [
    "# Total Riders in a Month\n",
    "\n",
    "Your task is to calculate the total number of rides at the Wilson station (`station_name == 'Wilson'`) on weekdays (`day_type == 'Weekday'`) in July (`month == 7`) using data from three different tables. Chicago provides this data in separate tables, and you will merge them to find the answer.\n",
    "\n",
    "The relationship between the tables is shown in the diagram below.\n",
    "\n",
    "![image.png](attachment:image.png)"
   ]
  },
  {
   "cell_type": "markdown",
   "metadata": {},
   "source": [
    "Create the `cal`, `ridership`, and `stations` DataFrames. "
   ]
  },
  {
   "cell_type": "code",
   "execution_count": null,
   "metadata": {},
   "outputs": [],
   "source": [
    "import pandas as pd \n",
    "\n",
    "url = 'https://raw.githubusercontent.com/joseeden/joeden/refs/heads/master/docs/021-Software-Engineering/021-Jupyter-Notebooks/000-Sample-Datasets/joining-data-with-pandas/cta_calendar.p'\n",
    "\n",
    "cal = pd.read_pickle(url)\n",
    "print(cal.head())\n",
    "print(cal.shape)"
   ]
  },
  {
   "cell_type": "code",
   "execution_count": null,
   "metadata": {},
   "outputs": [],
   "source": [
    "import pandas as pd \n",
    "\n",
    "url = 'https://raw.githubusercontent.com/joseeden/joeden/refs/heads/master/docs/021-Software-Engineering/021-Jupyter-Notebooks/000-Sample-Datasets/joining-data-with-pandas/cta_ridership.p'\n",
    "\n",
    "ridership = pd.read_pickle(url)\n",
    "print(ridership.head())\n",
    "print(ridership.shape)"
   ]
  },
  {
   "cell_type": "code",
   "execution_count": null,
   "metadata": {},
   "outputs": [],
   "source": [
    "import pandas as pd \n",
    "\n",
    "url = 'https://raw.githubusercontent.com/joseeden/joeden/refs/heads/master/docs/021-Software-Engineering/021-Jupyter-Notebooks/000-Sample-Datasets/joining-data-with-pandas/cta_stations.p'\n",
    "\n",
    "stations = pd.read_pickle(url)\n",
    "print(stations.head())\n",
    "print(stations.shape)"
   ]
  },
  {
   "cell_type": "markdown",
   "metadata": {},
   "source": [
    "Based on the diagram shown previously, the calendar table and ridership table are related to each other through the columns: 'year', `month`, and 'day'. Merge the two tables."
   ]
  },
  {
   "cell_type": "code",
   "execution_count": null,
   "metadata": {},
   "outputs": [],
   "source": [
    "ridership_cal = ridership.merge(cal, on=('year', 'month', 'day'))\n",
    "print(ridership_cal)"
   ]
  },
  {
   "cell_type": "markdown",
   "metadata": {},
   "source": [
    "Extend the previous merge to three tables by also merging the stations table."
   ]
  },
  {
   "cell_type": "code",
   "execution_count": null,
   "metadata": {},
   "outputs": [],
   "source": [
    "ridership_cal_stations = ridership.merge(cal, on=['year','month','day']) \\\n",
    "            \t\t\t\t.merge(stations, on='station_id')\n",
    "print(ridership_cal_stations)              "
   ]
  },
  {
   "cell_type": "markdown",
   "metadata": {},
   "source": [
    "Create a variable to select the appropriate rows from the merged table so that you can sum the rides column. \n",
    "\n",
    "Recall that the goal is to calculate the total number of rides at the Wilson station (`station_name == 'Wilson'`) on weekdays (`day_type == 'Weekday'`) in July (`month == 7`)"
   ]
  },
  {
   "cell_type": "code",
   "execution_count": null,
   "metadata": {},
   "outputs": [],
   "source": [
    "ridership_cal_stations = ridership.merge(cal, on=['year','month','day']) \\\n",
    "\t\t\t\t\t\t\t.merge(stations, on='station_id')\n",
    "\n",
    "# Create a filter to filter ridership_cal_stations\n",
    "filter_criteria = ((ridership_cal_stations['month'] == 7) \n",
    "                   & (ridership_cal_stations['day_type'] == 'Weekday') \n",
    "                   & (ridership_cal_stations['station_name'] == 'Wilson'))\n",
    "\n",
    "# Use .loc and the filter to select for rides\n",
    "print(ridership_cal_stations.loc[filter_criteria, 'rides'].sum())"
   ]
  }
 ],
 "metadata": {
  "kernelspec": {
   "display_name": "Python 3",
   "language": "python",
   "name": "python3"
  },
  "language_info": {
   "codemirror_mode": {
    "name": "ipython",
    "version": 3
   },
   "file_extension": ".py",
   "mimetype": "text/x-python",
   "name": "python",
   "nbconvert_exporter": "python",
   "pygments_lexer": "ipython3",
   "version": "3.11.9"
  }
 },
 "nbformat": 4,
 "nbformat_minor": 2
}
