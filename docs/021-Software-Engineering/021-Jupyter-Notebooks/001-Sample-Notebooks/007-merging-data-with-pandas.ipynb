{
 "cells": [
  {
   "cell_type": "markdown",
   "metadata": {},
   "source": [
    "<a href=\"https://colab.research.google.com/github/joseeden/joeden/blob/master/docs/021-Software-Engineering/021-Jupyter-Notebooks/001-Sample-Notebooks/007-merging-data-with-pandas.ipynb\" target=\"_parent\"><img src=\"https://colab.research.google.com/assets/colab-badge.svg\" alt=\"Open In Colab\"/></a>"
   ]
  },
  {
   "cell_type": "markdown",
   "metadata": {},
   "source": [
    "\n",
    "# Chicago Data Portal Dataset  \n",
    "\n",
    "Chicago is divided into 50 wards, each representing a local neighborhood. We will use the following tables:  \n",
    "\n",
    "- **The Ward Data**  \n",
    "\n",
    "  - Local government data, including office addresses.\n",
    "  - The wards table contains 50 rows and 4 columns.\n",
    "  - One row for each ward's government details.\n",
    "  - Download the file here: [chicago_wards.p](/docs/021-Software-Engineering/021-Jupyter-Notebooks/000-Sample-Datasets/joining-data-with-pandas/chicago_wards.p)\n",
    "\n",
    "- **Census table** \n",
    "  \n",
    "  - Population data for 2000 and 2010, percentage changes, and ward center addresses.  \n",
    "  - The census table has 50 rows and 6 columns\n",
    "  - Covers population data and ward center addresses.\n",
    "  - Download the file here: [chicago_census.p](/docs/021-Software-Engineering/021-Jupyter-Notebooks/000-Sample-Datasets/joining-data-with-pandas/chicago_census.p)\n",
    "\n",
    "- **Licenses Table**\n",
    "\n",
    "  - Holds information such as business addresses and the wards.\n",
    "  - Also related to the wards data through the `wards` column.\n",
    "  - Download the file here: [chicago_business_licenses.p](/docs/021-Software-Engineering/021-Jupyter-Notebooks/000-Sample-Datasets/joining-data-with-pandas/chicago_business_licenses.p)\n",
    "\n",
    "- **Business Owners**\n",
    "  - Contains records of business owners in different wards.\n",
    "  - Download the file here: [chicago_business_licenses.p](/docs/021-Software-Engineering/021-Jupyter-Notebooks/000-Sample-Datasets/joining-data-with-pandas/chicago_business_owners.p)"
   ]
  },
  {
   "cell_type": "markdown",
   "metadata": {},
   "source": [
    "# Importing the Datasets\n",
    "\n",
    "Import the wards data:"
   ]
  },
  {
   "cell_type": "code",
   "execution_count": null,
   "metadata": {},
   "outputs": [],
   "source": [
    "import pandas as pd \n",
    "\n",
    "url = 'https://raw.githubusercontent.com/joseeden/joeden/refs/heads/master/docs/021-Software-Engineering/021-Jupyter-Notebooks/000-Sample-Datasets/joining-data-with-pandas/chicago_wards.p'\n",
    "\n",
    "wards = pd.read_pickle(url)\n",
    "print(wards.head())\n",
    "print(wards.shape)"
   ]
  },
  {
   "cell_type": "markdown",
   "metadata": {},
   "source": [
    "Import the census data:"
   ]
  },
  {
   "cell_type": "code",
   "execution_count": null,
   "metadata": {},
   "outputs": [],
   "source": [
    "import pandas as pd \n",
    "\n",
    "url = 'https://raw.githubusercontent.com/joseeden/joeden/refs/heads/master/docs/021-Software-Engineering/021-Jupyter-Notebooks/000-Sample-Datasets/joining-data-with-pandas/chicago_census.p'\n",
    "\n",
    "census = pd.read_pickle(url)\n",
    "print(census.head())\n",
    "print(census.shape)"
   ]
  },
  {
   "cell_type": "markdown",
   "metadata": {},
   "source": [
    "Import the licenses data:"
   ]
  },
  {
   "cell_type": "code",
   "execution_count": null,
   "metadata": {},
   "outputs": [],
   "source": [
    "import pandas as pd \n",
    "\n",
    "url = 'https://raw.githubusercontent.com/joseeden/joeden/refs/heads/master/docs/021-Software-Engineering/021-Jupyter-Notebooks/000-Sample-Datasets/joining-data-with-pandas/chicago_business_licenses.p'\n",
    "\n",
    "licenses = pd.read_pickle(url)\n",
    "print(licenses.head())\n",
    "print(licenses.shape)"
   ]
  },
  {
   "cell_type": "markdown",
   "metadata": {},
   "source": [
    "Import the business owners data:"
   ]
  },
  {
   "cell_type": "code",
   "execution_count": 14,
   "metadata": {},
   "outputs": [
    {
     "name": "stdout",
     "output_type": "stream",
     "text": [
      "  account first_name  last_name      title\n",
      "0      10      PEARL    SHERMAN  PRESIDENT\n",
      "1      10      PEARL    SHERMAN  SECRETARY\n",
      "2   10002     WALTER     MROZEK    PARTNER\n",
      "3   10002     CELINA     BYRDAK    PARTNER\n",
      "4   10005      IRENE  ROSENFELD  PRESIDENT\n",
      "(21352, 4)\n"
     ]
    }
   ],
   "source": [
    "import pandas as pd \n",
    "\n",
    "url = 'https://raw.githubusercontent.com/joseeden/joeden/refs/heads/master/docs/021-Software-Engineering/021-Jupyter-Notebooks/000-Sample-Datasets/joining-data-with-pandas/chicago_business_owners.p'\n",
    "\n",
    "biz_owners = pd.read_pickle(url)\n",
    "print(biz_owners.head())\n",
    "print(biz_owners.shape)"
   ]
  },
  {
   "cell_type": "markdown",
   "metadata": {},
   "source": [
    "# Merging Tables  \n",
    "\n",
    "The tables are related by the **ward** column. Using this column, we can merge the wards table with the census table, matching rows based on ward numbers.\n",
    "\n",
    "Using pandas' `merge` method, we can combine the two DataFrames. The `on` argument specifies the **ward** column for the merge. The resulting DataFrame includes 50 rows and 9 columns, showing only rows with matching ward values in both tables. This is called an **inner join**.\n",
    "\n",
    "The wards table is considered the \"left table\" and thus the column from this table will appear first, followed by the census table (\"right table\") columns."
   ]
  },
  {
   "cell_type": "code",
   "execution_count": null,
   "metadata": {},
   "outputs": [],
   "source": [
    "wards_census = wards.merge(census, on='ward')\n",
    "print(wards_census.head(6))"
   ]
  },
  {
   "cell_type": "markdown",
   "metadata": {},
   "source": [
    "Merged tables may include columns with suffixes like `_x` or `_y` when both tables have overlapping column names (e.g., address or zip)."
   ]
  },
  {
   "cell_type": "markdown",
   "metadata": {},
   "source": [
    "# Controlling Suffixes  \n",
    "\n",
    "The `suffix` argument in `merge` allows customization. For instance, suffixes can be set to `'_ward'` for the left table and `'_cen'` for the right, making it easier to distinguish columns."
   ]
  },
  {
   "cell_type": "code",
   "execution_count": null,
   "metadata": {},
   "outputs": [],
   "source": [
    "wards_census = wards.merge(census, on='ward', suffixes=('_ward', '_cen'))\n",
    "print(wards_census.head())\n",
    "print(wards_census.shape)"
   ]
  },
  {
   "cell_type": "markdown",
   "metadata": {},
   "source": [
    "# Types of Relationships\n",
    "\n",
    "- **One-to-One**\n",
    "\n",
    "  - Each row in the left table matches exactly one row in the right table.\n",
    "  - Example: The relationship between the *wards* and *census* tables.\n",
    "    - Each ward in the *wards* table corresponds to one population entry in the *census* table.\n",
    "    - For instance, ward 3 appears only once in both tables, ensuring a single population value for each ward.\n",
    "\n",
    "- **One-to-Many**\n",
    "\n",
    "- Each row in the left table can relate to multiple rows in the right table.\n",
    "- Example: The relationship between the *wards* table and a *licenses* table containing business licenses.\n",
    "  - Each ward can have many businesses, so rows in the *wards* table are repeated when merged with the *licenses* table.\n",
    "  - For instance, ward 1 and its alderman appear multiple times due to many businesses in the 1st ward."
   ]
  },
  {
   "cell_type": "markdown",
   "metadata": {},
   "source": [
    "# Merging One-to-Many\n",
    "\n",
    "Merging is performed using the `merge` method with the `on` attribute set to the shared column, e.g., *ward*. The resulting table combines ward data with all matching rows from the business license data.\n",
    "\n",
    "Example: The *wards* table has 50 rows. \n",
    "\n",
    "- After merging with the *licenses* table, the new table has 10,000 rows.\n",
    "- Number of rows in the resulting table is often larger than in the left table."
   ]
  },
  {
   "cell_type": "code",
   "execution_count": null,
   "metadata": {},
   "outputs": [],
   "source": [
    "wards_licenses = wards.merge(licenses, on='ward', suffixes=('_ward', '_lic'))\n",
    "print(wards_licenses.head())\n",
    "print(wards_licenses.shape)"
   ]
  },
  {
   "cell_type": "markdown",
   "metadata": {},
   "source": [
    "Next, merge the business owners table with the licenses table to find out what is the most common business owner title. After merging, group the results by title and then count the number of accounts."
   ]
  },
  {
   "cell_type": "code",
   "execution_count": 15,
   "metadata": {},
   "outputs": [
    {
     "name": "stdout",
     "output_type": "stream",
     "text": [
      "                 account\n",
      "title                   \n",
      "PRESIDENT           6259\n",
      "SECRETARY           5205\n",
      "SOLE PROPRIETOR     1658\n",
      "OTHER               1200\n",
      "VICE PRESIDENT       970\n"
     ]
    }
   ],
   "source": [
    "licenses_owners = licenses.merge(biz_owners, on='account')\n",
    "\n",
    "counted_df = licenses_owners.groupby(\"title\").agg({'account':'count'})\n",
    "sorted_df = counted_df.sort_values(by='account', ascending=False)\n",
    "print(sorted_df.head())"
   ]
  }
 ],
 "metadata": {
  "kernelspec": {
   "display_name": "Python 3",
   "language": "python",
   "name": "python3"
  },
  "language_info": {
   "codemirror_mode": {
    "name": "ipython",
    "version": 3
   },
   "file_extension": ".py",
   "mimetype": "text/x-python",
   "name": "python",
   "nbconvert_exporter": "python",
   "pygments_lexer": "ipython3",
   "version": "3.11.9"
  }
 },
 "nbformat": 4,
 "nbformat_minor": 2
}
