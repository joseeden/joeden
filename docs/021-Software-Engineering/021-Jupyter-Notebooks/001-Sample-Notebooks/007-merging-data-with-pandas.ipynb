{
 "cells": [
  {
   "cell_type": "markdown",
   "metadata": {},
   "source": [
    "<a href=\"https://colab.research.google.com/github/joseeden/joeden/blob/master/docs/021-Software-Engineering/021-Jupyter-Notebooks/001-Sample-Notebooks/007-merging-data-with-pandas.ipynb\" target=\"_parent\"><img src=\"https://colab.research.google.com/assets/colab-badge.svg\" alt=\"Open In Colab\"/></a>"
   ]
  },
  {
   "cell_type": "markdown",
   "metadata": {},
   "source": [
    "\n",
    "# Chicago Data Portal Dataset  \n",
    "\n",
    "Chicago is divided into 50 wards, each representing a local neighborhood. We will use the following tables:  \n",
    "\n",
    "- **The Ward Data**  \n",
    "\n",
    "  - Local government data, including office addresses.\n",
    "  - The wards table contains 50 rows and 4 columns.\n",
    "  - One row for each ward's government details.\n",
    "  - Download the file here: [chicago_wards.p](/docs/021-Software-Engineering/021-Jupyter-Notebooks/000-Sample-Datasets/joining-data-with-pandas/chicago_wards.p)\n",
    "\n",
    "- **Census table** \n",
    "  \n",
    "  - Population data for 2000 and 2010, percentage changes, and ward center addresses.  \n",
    "  - The census table has 50 rows and 6 columns\n",
    "  - Covers population data and ward center addresses.\n",
    "  - Download the file here: [chicago_census.p](/docs/021-Software-Engineering/021-Jupyter-Notebooks/000-Sample-Datasets/joining-data-with-pandas/chicago_census.p)\n",
    "\n",
    "- **Licenses Table**\n",
    "\n",
    "  - Holds information such as business addresses and the wards.\n",
    "  - Also related to the wards data through the `wards` column.\n",
    "  - Download the file here: [chicago_business_licenses.p](/docs/021-Software-Engineering/021-Jupyter-Notebooks/000-Sample-Datasets/joining-data-with-pandas/chicago_business_licenses.p)\n",
    "\n",
    "- **Business Owners**\n",
    "  - Contains records of business owners in different wards.\n",
    "  - Download the file here: [chicago_business_licenses.p](/docs/021-Software-Engineering/021-Jupyter-Notebooks/000-Sample-Datasets/joining-data-with-pandas/chicago_business_owners.p)"
   ]
  },
  {
   "cell_type": "markdown",
   "metadata": {},
   "source": [
    "# Importing the Datasets\n",
    "\n",
    "Import the wards data:"
   ]
  },
  {
   "cell_type": "code",
   "execution_count": 16,
   "metadata": {},
   "outputs": [
    {
     "name": "stdout",
     "output_type": "stream",
     "text": [
      "  ward            alderman                          address    zip\n",
      "0    1  Proco \"Joe\" Moreno        2058 NORTH WESTERN AVENUE  60647\n",
      "1    2       Brian Hopkins       1400 NORTH  ASHLAND AVENUE  60622\n",
      "2    3          Pat Dowell          5046 SOUTH STATE STREET  60609\n",
      "3    4    William D. Burns  435 EAST 35TH STREET, 1ST FLOOR  60616\n",
      "4    5  Leslie A. Hairston            2325 EAST 71ST STREET  60649\n",
      "(50, 4)\n"
     ]
    }
   ],
   "source": [
    "import pandas as pd \n",
    "\n",
    "url = 'https://raw.githubusercontent.com/joseeden/joeden/refs/heads/master/docs/021-Software-Engineering/021-Jupyter-Notebooks/000-Sample-Datasets/joining-data-with-pandas/chicago_wards.p'\n",
    "\n",
    "wards = pd.read_pickle(url)\n",
    "print(wards.head())\n",
    "print(wards.shape)"
   ]
  },
  {
   "cell_type": "markdown",
   "metadata": {},
   "source": [
    "Import the census data:"
   ]
  },
  {
   "cell_type": "code",
   "execution_count": 17,
   "metadata": {},
   "outputs": [
    {
     "name": "stdout",
     "output_type": "stream",
     "text": [
      "  ward  pop_2000  pop_2010 change                                  address  \\\n",
      "0    1     52951     56149     6%              2765 WEST SAINT MARY STREET   \n",
      "1    2     54361     55805     3%                 WM WASTE MANAGEMENT 1500   \n",
      "2    3     40385     53039    31%                      17 EAST 38TH STREET   \n",
      "3    4     51953     54589     5%  31ST ST HARBOR BUILDING LAKEFRONT TRAIL   \n",
      "4    5     55302     51455    -7%  JACKSON PARK LAGOON SOUTH CORNELL DRIVE   \n",
      "\n",
      "     zip  \n",
      "0  60647  \n",
      "1  60622  \n",
      "2  60653  \n",
      "3  60653  \n",
      "4  60637  \n",
      "(50, 6)\n"
     ]
    }
   ],
   "source": [
    "import pandas as pd \n",
    "\n",
    "url = 'https://raw.githubusercontent.com/joseeden/joeden/refs/heads/master/docs/021-Software-Engineering/021-Jupyter-Notebooks/000-Sample-Datasets/joining-data-with-pandas/chicago_census.p'\n",
    "\n",
    "census = pd.read_pickle(url)\n",
    "print(census.head())\n",
    "print(census.shape)"
   ]
  },
  {
   "cell_type": "markdown",
   "metadata": {},
   "source": [
    "Import the licenses data:"
   ]
  },
  {
   "cell_type": "code",
   "execution_count": 18,
   "metadata": {},
   "outputs": [
    {
     "name": "stdout",
     "output_type": "stream",
     "text": [
      "  account ward  aid                   business               address    zip\n",
      "0  307071    3  743       REGGIE'S BAR & GRILL       2105 S STATE ST  60616\n",
      "1      10   10  829                 HONEYBEERS   13200 S HOUSTON AVE  60633\n",
      "2   10002   14  775                CELINA DELI     5089 S ARCHER AVE  60632\n",
      "3   10005   12  NaN  KRAFT FOODS NORTH AMERICA        2005 W 43RD ST  60609\n",
      "4   10044   44  638  NEYBOUR'S TAVERN & GRILLE  3651 N SOUTHPORT AVE  60613\n",
      "(10000, 6)\n"
     ]
    }
   ],
   "source": [
    "import pandas as pd \n",
    "\n",
    "url = 'https://raw.githubusercontent.com/joseeden/joeden/refs/heads/master/docs/021-Software-Engineering/021-Jupyter-Notebooks/000-Sample-Datasets/joining-data-with-pandas/chicago_business_licenses.p'\n",
    "\n",
    "licenses = pd.read_pickle(url)\n",
    "print(licenses.head())\n",
    "print(licenses.shape)"
   ]
  },
  {
   "cell_type": "markdown",
   "metadata": {},
   "source": [
    "Import the business owners data:"
   ]
  },
  {
   "cell_type": "code",
   "execution_count": 19,
   "metadata": {},
   "outputs": [
    {
     "name": "stdout",
     "output_type": "stream",
     "text": [
      "  account first_name  last_name      title\n",
      "0      10      PEARL    SHERMAN  PRESIDENT\n",
      "1      10      PEARL    SHERMAN  SECRETARY\n",
      "2   10002     WALTER     MROZEK    PARTNER\n",
      "3   10002     CELINA     BYRDAK    PARTNER\n",
      "4   10005      IRENE  ROSENFELD  PRESIDENT\n",
      "(21352, 4)\n"
     ]
    }
   ],
   "source": [
    "import pandas as pd \n",
    "\n",
    "url = 'https://raw.githubusercontent.com/joseeden/joeden/refs/heads/master/docs/021-Software-Engineering/021-Jupyter-Notebooks/000-Sample-Datasets/joining-data-with-pandas/chicago_business_owners.p'\n",
    "\n",
    "biz_owners = pd.read_pickle(url)\n",
    "print(biz_owners.head())\n",
    "print(biz_owners.shape)"
   ]
  },
  {
   "cell_type": "markdown",
   "metadata": {},
   "source": [
    "# Merging Tables  \n",
    "\n",
    "The tables are related by the **ward** column. Using this column, we can merge the wards table with the census table, matching rows based on ward numbers.\n",
    "\n",
    "Using pandas' `merge` method, we can combine the two DataFrames. The `on` argument specifies the **ward** column for the merge. The resulting DataFrame includes 50 rows and 9 columns, showing only rows with matching ward values in both tables. This is called an **inner join**.\n",
    "\n",
    "The wards table is considered the \"left table\" and thus the column from this table will appear first, followed by the census table (\"right table\") columns."
   ]
  },
  {
   "cell_type": "code",
   "execution_count": 20,
   "metadata": {},
   "outputs": [
    {
     "name": "stdout",
     "output_type": "stream",
     "text": [
      "  ward            alderman                         address_x  zip_x  pop_2000  \\\n",
      "0    1  Proco \"Joe\" Moreno         2058 NORTH WESTERN AVENUE  60647     52951   \n",
      "1    2       Brian Hopkins        1400 NORTH  ASHLAND AVENUE  60622     54361   \n",
      "2    3          Pat Dowell           5046 SOUTH STATE STREET  60609     40385   \n",
      "3    4    William D. Burns   435 EAST 35TH STREET, 1ST FLOOR  60616     51953   \n",
      "4    5  Leslie A. Hairston             2325 EAST 71ST STREET  60649     55302   \n",
      "5    6  Roderick T. Sawyer  8001 S. MARTIN LUTHER KING DRIVE  60619     54989   \n",
      "\n",
      "   pop_2010 change                                address_y  zip_y  \n",
      "0     56149     6%              2765 WEST SAINT MARY STREET  60647  \n",
      "1     55805     3%                 WM WASTE MANAGEMENT 1500  60622  \n",
      "2     53039    31%                      17 EAST 38TH STREET  60653  \n",
      "3     54589     5%  31ST ST HARBOR BUILDING LAKEFRONT TRAIL  60653  \n",
      "4     51455    -7%  JACKSON PARK LAGOON SOUTH CORNELL DRIVE  60637  \n",
      "5     52341    -5%                     150 WEST 74TH STREET  60636  \n"
     ]
    }
   ],
   "source": [
    "wards_census = wards.merge(census, on='ward')\n",
    "print(wards_census.head(6))"
   ]
  },
  {
   "cell_type": "markdown",
   "metadata": {},
   "source": [
    "Merged tables may include columns with suffixes like `_x` or `_y` when both tables have overlapping column names (e.g., address or zip)."
   ]
  },
  {
   "cell_type": "markdown",
   "metadata": {},
   "source": [
    "# Controlling Suffixes  \n",
    "\n",
    "The `suffix` argument in `merge` allows customization. For instance, suffixes can be set to `'_ward'` for the left table and `'_cen'` for the right, making it easier to distinguish columns."
   ]
  },
  {
   "cell_type": "code",
   "execution_count": 21,
   "metadata": {},
   "outputs": [
    {
     "name": "stdout",
     "output_type": "stream",
     "text": [
      "  ward            alderman                     address_ward zip_ward  \\\n",
      "0    1  Proco \"Joe\" Moreno        2058 NORTH WESTERN AVENUE    60647   \n",
      "1    2       Brian Hopkins       1400 NORTH  ASHLAND AVENUE    60622   \n",
      "2    3          Pat Dowell          5046 SOUTH STATE STREET    60609   \n",
      "3    4    William D. Burns  435 EAST 35TH STREET, 1ST FLOOR    60616   \n",
      "4    5  Leslie A. Hairston            2325 EAST 71ST STREET    60649   \n",
      "\n",
      "   pop_2000  pop_2010 change                              address_cen zip_cen  \n",
      "0     52951     56149     6%              2765 WEST SAINT MARY STREET   60647  \n",
      "1     54361     55805     3%                 WM WASTE MANAGEMENT 1500   60622  \n",
      "2     40385     53039    31%                      17 EAST 38TH STREET   60653  \n",
      "3     51953     54589     5%  31ST ST HARBOR BUILDING LAKEFRONT TRAIL   60653  \n",
      "4     55302     51455    -7%  JACKSON PARK LAGOON SOUTH CORNELL DRIVE   60637  \n",
      "(50, 9)\n"
     ]
    }
   ],
   "source": [
    "wards_census = wards.merge(census, on='ward', suffixes=('_ward', '_cen'))\n",
    "print(wards_census.head())\n",
    "print(wards_census.shape)"
   ]
  },
  {
   "cell_type": "markdown",
   "metadata": {},
   "source": [
    "# Types of Relationships\n",
    "\n",
    "- **One-to-One**\n",
    "\n",
    "  - Each row in the left table matches exactly one row in the right table.\n",
    "  - Example: The relationship between the *wards* and *census* tables.\n",
    "    - Each ward in the *wards* table corresponds to one population entry in the *census* table.\n",
    "    - For instance, ward 3 appears only once in both tables, ensuring a single population value for each ward.\n",
    "\n",
    "- **One-to-Many**\n",
    "\n",
    "- Each row in the left table can relate to multiple rows in the right table.\n",
    "- Example: The relationship between the *wards* table and a *licenses* table containing business licenses.\n",
    "  - Each ward can have many businesses, so rows in the *wards* table are repeated when merged with the *licenses* table.\n",
    "  - For instance, ward 1 and its alderman appear multiple times due to many businesses in the 1st ward."
   ]
  },
  {
   "cell_type": "markdown",
   "metadata": {},
   "source": [
    "# Merging One-to-Many\n",
    "\n",
    "Merging is performed using the `merge` method with the `on` attribute set to the shared column, e.g., *ward*. The resulting table combines ward data with all matching rows from the business license data.\n",
    "\n",
    "Example: The *wards* table has 50 rows. \n",
    "\n",
    "- After merging with the *licenses* table, the new table has 10,000 rows.\n",
    "- Number of rows in the resulting table is often larger than in the left table."
   ]
  },
  {
   "cell_type": "code",
   "execution_count": 22,
   "metadata": {},
   "outputs": [
    {
     "name": "stdout",
     "output_type": "stream",
     "text": [
      "  ward            alderman               address_ward zip_ward account  aid  \\\n",
      "0    1  Proco \"Joe\" Moreno  2058 NORTH WESTERN AVENUE    60647   12024  NaN   \n",
      "1    1  Proco \"Joe\" Moreno  2058 NORTH WESTERN AVENUE    60647   14446  743   \n",
      "2    1  Proco \"Joe\" Moreno  2058 NORTH WESTERN AVENUE    60647   14624  775   \n",
      "3    1  Proco \"Joe\" Moreno  2058 NORTH WESTERN AVENUE    60647   14987  NaN   \n",
      "4    1  Proco \"Joe\" Moreno  2058 NORTH WESTERN AVENUE    60647   15642  814   \n",
      "\n",
      "               business              address_lic zip_lic  \n",
      "0   DIGILOG ELECTRONICS       1038 N ASHLAND AVE   60622  \n",
      "1      EMPTY BOTTLE INC   1035 N WESTERN AVE 1ST   60622  \n",
      "2  LITTLE MEL'S HOT DOG    2205 N CALIFORNIA AVE   60647  \n",
      "3    MR. BROWN'S LOUNGE   2301 W CHICAGO AVE 1ST   60622  \n",
      "4          Beat Kitchen  2000-2100 W DIVISION ST   60622  \n",
      "(10000, 9)\n"
     ]
    }
   ],
   "source": [
    "wards_licenses = wards.merge(licenses, on='ward', suffixes=('_ward', '_lic'))\n",
    "print(wards_licenses.head())\n",
    "print(wards_licenses.shape)"
   ]
  },
  {
   "cell_type": "markdown",
   "metadata": {},
   "source": [
    "Next, merge the business owners table with the licenses table to find out what is the most common business owner title. After merging, group the results by title and then count the number of accounts."
   ]
  },
  {
   "cell_type": "code",
   "execution_count": 23,
   "metadata": {},
   "outputs": [
    {
     "name": "stdout",
     "output_type": "stream",
     "text": [
      "                 account\n",
      "title                   \n",
      "PRESIDENT           6259\n",
      "SECRETARY           5205\n",
      "SOLE PROPRIETOR     1658\n",
      "OTHER               1200\n",
      "VICE PRESIDENT       970\n"
     ]
    }
   ],
   "source": [
    "licenses_owners = licenses.merge(biz_owners, on='account')\n",
    "\n",
    "counted_df = licenses_owners.groupby(\"title\").agg({'account':'count'})\n",
    "sorted_df = counted_df.sort_values(by='account', ascending=False)\n",
    "print(sorted_df.head())"
   ]
  }
 ],
 "metadata": {
  "kernelspec": {
   "display_name": "Python 3",
   "language": "python",
   "name": "python3"
  },
  "language_info": {
   "codemirror_mode": {
    "name": "ipython",
    "version": 3
   },
   "file_extension": ".py",
   "mimetype": "text/x-python",
   "name": "python",
   "nbconvert_exporter": "python",
   "pygments_lexer": "ipython3",
   "version": "3.11.9"
  }
 },
 "nbformat": 4,
 "nbformat_minor": 2
}
