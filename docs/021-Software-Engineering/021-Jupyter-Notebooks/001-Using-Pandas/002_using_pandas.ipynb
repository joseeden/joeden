{
  "cells": [
    {
      "cell_type": "markdown",
      "metadata": {
        "colab_type": "text",
        "id": "view-in-github"
      },
      "source": [
        "<a href=\"https://colab.research.google.com/github/joseeden/joeden/blob/master/docs/021-Software-Engineering/021-Jupyter-Notebooks/001-Using-Pandas/002_using_pandas.ipynb\" target=\"_parent\"><img src=\"https://colab.research.google.com/assets/colab-badge.svg\" alt=\"Open In Colab\"/></a>"
      ]
    },
    {
      "cell_type": "markdown",
      "metadata": {
        "id": "wLMBGPdd-Uoe"
      },
      "source": [
        "# Using Pandas\n",
        "\n",
        "Make sure to install Pandas first. You can create a code cell below this and add:\n",
        "\n",
        "```python\n",
        "!pip install pandas\n",
        "```"
      ]
    },
    {
      "cell_type": "markdown",
      "metadata": {
        "id": "iwNd40A7-TL9"
      },
      "source": [
        "Create the BRICS dataframe."
      ]
    },
    {
      "cell_type": "code",
      "execution_count": 9,
      "metadata": {
        "id": "wevf0nG4-TL9",
        "outputId": "4cf1e46d-014e-4f0c-f6d5-3ca368a26440"
      },
      "outputs": [
        {
          "name": "stdout",
          "output_type": "stream",
          "text": [
            "         country    capital  area  population\n",
            "BR        Brazil   Brasília   8.5         211\n",
            "RU        Russia     Moscow  17.1         144\n",
            "IN         India  New Delhi   3.3        1380\n",
            "CH         China    Beijing   9.6        1393\n",
            "SA  South Africa   Pretoria   1.2          58\n"
          ]
        }
      ],
      "source": [
        "import pandas as pd\n",
        "\n",
        "data = {\n",
        "  \"country\": [\"Brazil\", \"Russia\", \"India\", \"China\", \"South Africa\"],\n",
        "  \"capital\": [\"Brasília\", \"Moscow\", \"New Delhi\", \"Beijing\", \"Pretoria\"],\n",
        "  \"area\": [8.5, 17.1, 3.3, 9.6, 1.2],\n",
        "  \"population\": [211, 144, 1380, 1393, 58]\n",
        "}\n",
        "\n",
        "brics = pd.DataFrame(data)\n",
        "brics.index = [\"BR\", \"RU\", \"IN\", \"CH\", \"SA\"]\n",
        "print(brics)"
      ]
    },
    {
      "cell_type": "markdown",
      "metadata": {
        "id": "A7ReEx5k-TL_"
      },
      "source": [
        "To select the countries with area over 8 million square kilometers:\n",
        "\n",
        "1. Select the area column"
      ]
    },
    {
      "cell_type": "code",
      "execution_count": 10,
      "metadata": {
        "collapsed": true,
        "id": "jkhmtfIF-TMA"
      },
      "outputs": [
        {
          "data": {
            "text/plain": [
              "BR     8.5\n",
              "RU    17.1\n",
              "IN     3.3\n",
              "CH     9.6\n",
              "SA     1.2\n",
              "Name: area, dtype: float64"
            ]
          },
          "execution_count": 10,
          "metadata": {},
          "output_type": "execute_result"
        }
      ],
      "source": [
        "  import pandas as pd\n",
        "\n",
        "  data = {\n",
        "      \"country\": [\"Brazil\", \"Russia\", \"India\", \"China\", \"South Africa\"],\n",
        "      \"capital\": [\"Brasília\", \"Moscow\", \"New Delhi\", \"Beijing\", \"Pretoria\"],\n",
        "      \"area\": [8.5, 17.1, 3.3, 9.6, 1.2],\n",
        "      \"population\": [211, 144, 1380, 1393, 58]\n",
        "  }\n",
        "\n",
        "  brics = pd.DataFrame(data)\n",
        "  brics.index = [\"BR\", \"RU\", \"IN\", \"CH\", \"SA\"]\n",
        "  brics[\"area\"]"
      ]
    },
    {
      "cell_type": "markdown",
      "metadata": {
        "id": "GPD_bPDs-TMB"
      },
      "source": [
        "2. Perform a comparison"
      ]
    },
    {
      "cell_type": "code",
      "execution_count": 11,
      "metadata": {
        "id": "Dj6YaErz-TMC"
      },
      "outputs": [
        {
          "data": {
            "text/plain": [
              "BR     True\n",
              "RU     True\n",
              "IN    False\n",
              "CH     True\n",
              "SA    False\n",
              "Name: area, dtype: bool"
            ]
          },
          "execution_count": 11,
          "metadata": {},
          "output_type": "execute_result"
        }
      ],
      "source": [
        "import pandas as pd\n",
        "\n",
        "data = {\n",
        "    \"country\": [\"Brazil\", \"Russia\", \"India\", \"China\", \"South Africa\"],\n",
        "    \"capital\": [\"Brasília\", \"Moscow\", \"New Delhi\", \"Beijing\", \"Pretoria\"],\n",
        "    \"area\": [8.5, 17.1, 3.3, 9.6, 1.2],\n",
        "    \"population\": [211, 144, 1380, 1393, 58]\n",
        "}\n",
        "\n",
        "brics = pd.DataFrame(data)\n",
        "brics.index = [\"BR\", \"RU\", \"IN\", \"CH\", \"SA\"]\n",
        "brics[\"area\"] > 8"
      ]
    },
    {
      "cell_type": "markdown",
      "metadata": {
        "id": "dOaTsSt3-TMC"
      },
      "source": [
        "3. Use result to select the countries"
      ]
    },
    {
      "cell_type": "code",
      "execution_count": 12,
      "metadata": {
        "colab": {
          "base_uri": "https://localhost:8080/",
          "height": 143
        },
        "id": "iW9wVcj2-TMD",
        "outputId": "8a95bdf7-4c76-40cf-acba-1ff9c3e219fd"
      },
      "outputs": [
        {
          "data": {
            "text/html": [
              "<div>\n",
              "<style scoped>\n",
              "    .dataframe tbody tr th:only-of-type {\n",
              "        vertical-align: middle;\n",
              "    }\n",
              "\n",
              "    .dataframe tbody tr th {\n",
              "        vertical-align: top;\n",
              "    }\n",
              "\n",
              "    .dataframe thead th {\n",
              "        text-align: right;\n",
              "    }\n",
              "</style>\n",
              "<table border=\"1\" class=\"dataframe\">\n",
              "  <thead>\n",
              "    <tr style=\"text-align: right;\">\n",
              "      <th></th>\n",
              "      <th>country</th>\n",
              "      <th>capital</th>\n",
              "      <th>area</th>\n",
              "      <th>population</th>\n",
              "    </tr>\n",
              "  </thead>\n",
              "  <tbody>\n",
              "    <tr>\n",
              "      <th>BR</th>\n",
              "      <td>Brazil</td>\n",
              "      <td>Brasília</td>\n",
              "      <td>8.5</td>\n",
              "      <td>211</td>\n",
              "    </tr>\n",
              "    <tr>\n",
              "      <th>RU</th>\n",
              "      <td>Russia</td>\n",
              "      <td>Moscow</td>\n",
              "      <td>17.1</td>\n",
              "      <td>144</td>\n",
              "    </tr>\n",
              "    <tr>\n",
              "      <th>CH</th>\n",
              "      <td>China</td>\n",
              "      <td>Beijing</td>\n",
              "      <td>9.6</td>\n",
              "      <td>1393</td>\n",
              "    </tr>\n",
              "  </tbody>\n",
              "</table>\n",
              "</div>"
            ],
            "text/plain": [
              "   country   capital  area  population\n",
              "BR  Brazil  Brasília   8.5         211\n",
              "RU  Russia    Moscow  17.1         144\n",
              "CH   China   Beijing   9.6        1393"
            ]
          },
          "execution_count": 12,
          "metadata": {},
          "output_type": "execute_result"
        }
      ],
      "source": [
        "  import pandas as pd\n",
        "\n",
        "  data = {\n",
        "      \"country\": [\"Brazil\", \"Russia\", \"India\", \"China\", \"South Africa\"],\n",
        "      \"capital\": [\"Brasília\", \"Moscow\", \"New Delhi\", \"Beijing\", \"Pretoria\"],\n",
        "      \"area\": [8.5, 17.1, 3.3, 9.6, 1.2],\n",
        "      \"population\": [211, 144, 1380, 1393, 58]\n",
        "  }\n",
        "\n",
        "  brics = pd.DataFrame(data)\n",
        "  brics.index = [\"BR\", \"RU\", \"IN\", \"CH\", \"SA\"]\n",
        "\n",
        "\n",
        "  brics[brics[\"area\"] > 8]"
      ]
    },
    {
      "cell_type": "markdown",
      "metadata": {
        "id": "tQDZ4TGw-TME"
      },
      "source": [
        "Using AND comparisons:"
      ]
    },
    {
      "cell_type": "code",
      "execution_count": 13,
      "metadata": {
        "id": "rqfR3dyn-TME",
        "outputId": "ba3bff5b-97c9-4593-8307-cab6cf119579"
      },
      "outputs": [
        {
          "data": {
            "text/plain": [
              "BR     True\n",
              "RU    False\n",
              "IN    False\n",
              "CH     True\n",
              "SA    False\n",
              "Name: area, dtype: bool"
            ]
          },
          "execution_count": 13,
          "metadata": {},
          "output_type": "execute_result"
        }
      ],
      "source": [
        "import pandas as pd\n",
        "import numpy as np\n",
        "\n",
        "data = {\n",
        "    \"country\": [\"Brazil\", \"Russia\", \"India\", \"China\", \"South Africa\"],\n",
        "    \"capital\": [\"Brasília\", \"Moscow\", \"New Delhi\", \"Beijing\", \"Pretoria\"],\n",
        "    \"area\": [8.5, 17.1, 3.3, 9.6, 1.2],\n",
        "    \"population\": [211, 144, 1380, 1393, 58]\n",
        "}\n",
        "\n",
        "brics = pd.DataFrame(data)\n",
        "brics.index = [\"BR\", \"RU\", \"IN\", \"CH\", \"SA\"]\n",
        "\n",
        "np.logical_and(\n",
        "  brics[\"area\"] > 8,\n",
        "  brics[\"area\"] < 10\n",
        ")"
      ]
    },
    {
      "cell_type": "code",
      "execution_count": 14,
      "metadata": {
        "id": "zkABllra-TMF",
        "outputId": "87a72c8a-fb90-4796-f4ec-48a59601618d"
      },
      "outputs": [
        {
          "data": {
            "text/html": [
              "<div>\n",
              "<style scoped>\n",
              "    .dataframe tbody tr th:only-of-type {\n",
              "        vertical-align: middle;\n",
              "    }\n",
              "\n",
              "    .dataframe tbody tr th {\n",
              "        vertical-align: top;\n",
              "    }\n",
              "\n",
              "    .dataframe thead th {\n",
              "        text-align: right;\n",
              "    }\n",
              "</style>\n",
              "<table border=\"1\" class=\"dataframe\">\n",
              "  <thead>\n",
              "    <tr style=\"text-align: right;\">\n",
              "      <th></th>\n",
              "      <th>country</th>\n",
              "      <th>capital</th>\n",
              "      <th>area</th>\n",
              "      <th>population</th>\n",
              "    </tr>\n",
              "  </thead>\n",
              "  <tbody>\n",
              "    <tr>\n",
              "      <th>BR</th>\n",
              "      <td>Brazil</td>\n",
              "      <td>Brasília</td>\n",
              "      <td>8.5</td>\n",
              "      <td>211</td>\n",
              "    </tr>\n",
              "    <tr>\n",
              "      <th>CH</th>\n",
              "      <td>China</td>\n",
              "      <td>Beijing</td>\n",
              "      <td>9.6</td>\n",
              "      <td>1393</td>\n",
              "    </tr>\n",
              "  </tbody>\n",
              "</table>\n",
              "</div>"
            ],
            "text/plain": [
              "   country   capital  area  population\n",
              "BR  Brazil  Brasília   8.5         211\n",
              "CH   China   Beijing   9.6        1393"
            ]
          },
          "execution_count": 14,
          "metadata": {},
          "output_type": "execute_result"
        }
      ],
      "source": [
        "import pandas as pd\n",
        "import numpy as np\n",
        "\n",
        "data = {\n",
        "    \"country\": [\"Brazil\", \"Russia\", \"India\", \"China\", \"South Africa\"],\n",
        "    \"capital\": [\"Brasília\", \"Moscow\", \"New Delhi\", \"Beijing\", \"Pretoria\"],\n",
        "    \"area\": [8.5, 17.1, 3.3, 9.6, 1.2],\n",
        "    \"population\": [211, 144, 1380, 1393, 58]\n",
        "}\n",
        "\n",
        "brics = pd.DataFrame(data)\n",
        "brics.index = [\"BR\", \"RU\", \"IN\", \"CH\", \"SA\"]\n",
        "\n",
        "brics[np.logical_and(\n",
        "  brics[\"area\"] > 8,\n",
        "  brics[\"area\"] < 10\n",
        ")]"
      ]
    },
    {
      "cell_type": "markdown",
      "metadata": {
        "id": "0dwmI2Jd-TMF"
      },
      "source": [
        "Looping through Pandas Dataframes:"
      ]
    },
    {
      "cell_type": "markdown",
      "metadata": {
        "id": "rW9THKsM-TMG"
      },
      "source": [
        "Iterating over each row:"
      ]
    },
    {
      "cell_type": "code",
      "execution_count": 15,
      "metadata": {
        "id": "zGOcOmNk-TMG",
        "outputId": "4217d90c-28c6-406a-d7f6-c25645e88d97"
      },
      "outputs": [
        {
          "name": "stdout",
          "output_type": "stream",
          "text": [
            "BR\n",
            "country         Brazil\n",
            "capital       Brasília\n",
            "area               8.5\n",
            "population         211\n",
            "Name: BR, dtype: object\n",
            "RU\n",
            "country       Russia\n",
            "capital       Moscow\n",
            "area            17.1\n",
            "population       144\n",
            "Name: RU, dtype: object\n",
            "IN\n",
            "country           India\n",
            "capital       New Delhi\n",
            "area                3.3\n",
            "population         1380\n",
            "Name: IN, dtype: object\n",
            "CH\n",
            "country         China\n",
            "capital       Beijing\n",
            "area              9.6\n",
            "population       1393\n",
            "Name: CH, dtype: object\n",
            "SA\n",
            "country       South Africa\n",
            "capital           Pretoria\n",
            "area                   1.2\n",
            "population              58\n",
            "Name: SA, dtype: object\n"
          ]
        }
      ],
      "source": [
        "import pandas as pd\n",
        "\n",
        "data = {\n",
        "    \"country\": [\"Brazil\", \"Russia\", \"India\", \"China\", \"South Africa\"],\n",
        "    \"capital\": [\"Brasília\", \"Moscow\", \"New Delhi\", \"Beijing\", \"Pretoria\"],\n",
        "    \"area\": [8.5, 17.1, 3.3, 9.6, 1.2],\n",
        "    \"population\": [211, 144, 1380, 1393, 58]\n",
        "}\n",
        "\n",
        "brics = pd.DataFrame(data)\n",
        "brics.index = [\"BR\", \"RU\", \"IN\", \"CH\", \"SA\"]\n",
        "\n",
        "for label, row in brics.iterrows():\n",
        "    print(label)\n",
        "    print(row)"
      ]
    },
    {
      "cell_type": "markdown",
      "metadata": {
        "id": "iJQUgr2Q-TMG"
      },
      "source": [
        "Selecting only the label and the capital column:"
      ]
    },
    {
      "cell_type": "code",
      "execution_count": 16,
      "metadata": {
        "id": "y0tyYs55-TMH",
        "outputId": "3249e8c7-f10a-4cef-9726-0de3342d887c"
      },
      "outputs": [
        {
          "name": "stdout",
          "output_type": "stream",
          "text": [
            "BR: Brasília\n",
            "RU: Moscow\n",
            "IN: New Delhi\n",
            "CH: Beijing\n",
            "SA: Pretoria\n"
          ]
        }
      ],
      "source": [
        "import pandas as pd\n",
        "\n",
        "data = {\n",
        "    \"country\": [\"Brazil\", \"Russia\", \"India\", \"China\", \"South Africa\"],\n",
        "    \"capital\": [\"Brasília\", \"Moscow\", \"New Delhi\", \"Beijing\", \"Pretoria\"],\n",
        "    \"area\": [8.5, 17.1, 3.3, 9.6, 1.2],\n",
        "    \"population\": [211, 144, 1380, 1393, 58]\n",
        "}\n",
        "\n",
        "brics = pd.DataFrame(data)\n",
        "brics.index = [\"BR\", \"RU\", \"IN\", \"CH\", \"SA\"]\n",
        "\n",
        "for label, row in brics.iterrows():\n",
        "    print(label + \": \" + row[\"capital\"])"
      ]
    },
    {
      "cell_type": "markdown",
      "metadata": {
        "id": "qyV2fNe0-TMH"
      },
      "source": [
        "Adding a new column that shows the character length of the country name:"
      ]
    },
    {
      "cell_type": "code",
      "execution_count": 17,
      "metadata": {
        "id": "alqYFDnG-TMH",
        "outputId": "f3a0c31e-a051-4bbf-92f5-346110babc78"
      },
      "outputs": [
        {
          "name": "stdout",
          "output_type": "stream",
          "text": [
            "         country    capital  area  population  name_length\n",
            "BR        Brazil   Brasília   8.5         211          6.0\n",
            "RU        Russia     Moscow  17.1         144          6.0\n",
            "IN         India  New Delhi   3.3        1380          5.0\n",
            "CH         China    Beijing   9.6        1393          5.0\n",
            "SA  South Africa   Pretoria   1.2          58         12.0\n"
          ]
        }
      ],
      "source": [
        "import pandas as pd\n",
        "\n",
        "data = {\n",
        "    \"country\": [\"Brazil\", \"Russia\", \"India\", \"China\", \"South Africa\"],\n",
        "    \"capital\": [\"Brasília\", \"Moscow\", \"New Delhi\", \"Beijing\", \"Pretoria\"],\n",
        "    \"area\": [8.5, 17.1, 3.3, 9.6, 1.2],\n",
        "    \"population\": [211, 144, 1380, 1393, 58]\n",
        "}\n",
        "\n",
        "brics = pd.DataFrame(data)\n",
        "brics.index = [\"BR\", \"RU\", \"IN\", \"CH\", \"SA\"]\n",
        "\n",
        "for label, row in brics.iterrows():\n",
        "    ## Create series on iteration\n",
        "    brics.loc[label, \"name_length\"] = len(row[\"country\"])\n",
        "\n",
        "print(brics)"
      ]
    },
    {
      "cell_type": "markdown",
      "metadata": {
        "id": "aK3bRaI--TMI"
      },
      "source": [
        "Adding a new column that shows the character length of the country name, without using a for loop:"
      ]
    },
    {
      "cell_type": "code",
      "execution_count": 18,
      "metadata": {
        "id": "ulgk1Smn-TMI",
        "outputId": "d68cabb3-1a7e-4304-f8f7-dc7dab2e6757"
      },
      "outputs": [
        {
          "name": "stdout",
          "output_type": "stream",
          "text": [
            "         country    capital  area  population  name_length\n",
            "BR        Brazil   Brasília   8.5         211            6\n",
            "RU        Russia     Moscow  17.1         144            6\n",
            "IN         India  New Delhi   3.3        1380            5\n",
            "CH         China    Beijing   9.6        1393            5\n",
            "SA  South Africa   Pretoria   1.2          58           12\n"
          ]
        }
      ],
      "source": [
        "import pandas as pd\n",
        "\n",
        "data = {\n",
        "    \"country\": [\"Brazil\", \"Russia\", \"India\", \"China\", \"South Africa\"],\n",
        "    \"capital\": [\"Brasília\", \"Moscow\", \"New Delhi\", \"Beijing\", \"Pretoria\"],\n",
        "    \"area\": [8.5, 17.1, 3.3, 9.6, 1.2],\n",
        "    \"population\": [211, 144, 1380, 1393, 58]\n",
        "}\n",
        "\n",
        "brics[\"name_length\"] = brics[\"country\"].apply(len)\n",
        "print(brics)"
      ]
    }
  ],
  "metadata": {
    "colab": {
      "include_colab_link": true,
      "provenance": []
    },
    "kernelspec": {
      "display_name": "Python 3",
      "language": "python",
      "name": "python3"
    },
    "language_info": {
      "codemirror_mode": {
        "name": "ipython",
        "version": 3
      },
      "file_extension": ".py",
      "mimetype": "text/x-python",
      "name": "python",
      "nbconvert_exporter": "python",
      "pygments_lexer": "ipython3",
      "version": "3.11.9"
    }
  },
  "nbformat": 4,
  "nbformat_minor": 0
}
