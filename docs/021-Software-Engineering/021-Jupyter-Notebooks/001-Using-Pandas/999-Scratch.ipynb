{
 "cells": [
  {
   "cell_type": "markdown",
   "metadata": {},
   "source": [
    "# Scratch \n",
    "\n",
    "This file is used for short one-off tests."
   ]
  },
  {
   "cell_type": "code",
   "execution_count": null,
   "metadata": {},
   "outputs": [],
   "source": []
  },
  {
   "cell_type": "markdown",
   "metadata": {},
   "source": [
    "<a href=\"https://colab.research.google.com/github/joseeden/joeden/blob/master/docs/021-Software-Engineering/021-Jupyter-Notebooks/001-Using-Pandas/999-Scratch.ipynb\" target=\"_parent\"><img src=\"https://colab.research.google.com/assets/colab-badge.svg\" alt=\"Open In Colab\"/></a>"
   ]
  },
  {
   "cell_type": "code",
   "execution_count": null,
   "metadata": {},
   "outputs": [],
   "source": [
    "import pandas as pd\n",
    "\n",
    "data = {\n",
    "    \"Name\": [\"Ted\", \"Stella\", \"Ted\", \"Robin\", \"Ted\", \"Stella\"],\n",
    "    \"Breed\": [\"Labrador\", \"Golden Retriever\", \"Chow Chow\", \"Poodle\", \"Labrador\", \"Golden Retriever\"],\n",
    "    \"Color\": [\"Black\", \"Golden\", \"Brown\", \"White\", \"Black\", \"Golden\"],\n",
    "    \"Visit Date\": [\"2023-01-10\", \"2023-01-12\", \"2023-01-15\", \"2023-01-18\", \"2023-01-20\", \"2023-01-22\"],\n",
    "    \"Weight\": [30, 25, 28, 20, 32, 26]  # Add weights in kilograms\n",
    "}\n",
    "\n",
    "dogs = pd.DataFrame(data)\n",
    "print(dogs)\n"
   ]
  },
  {
   "cell_type": "code",
   "execution_count": null,
   "metadata": {},
   "outputs": [],
   "source": [
    "dogs.groupby(\"Breed\")[\"Name\"].count()"
   ]
  },
  {
   "cell_type": "code",
   "execution_count": null,
   "metadata": {},
   "outputs": [],
   "source": [
    "dogs.groupby(\"Color\").agg({\n",
    "        \"Name\": \"nunique\",\n",
    "        \"Visit Date\": \"count\"\n",
    "    })"
   ]
  },
  {
   "cell_type": "code",
   "execution_count": null,
   "metadata": {},
   "outputs": [],
   "source": [
    "dogs.groupby([\"Color\", \"Breed\"])[\"Name\"].count()"
   ]
  },
  {
   "cell_type": "code",
   "execution_count": null,
   "metadata": {},
   "outputs": [],
   "source": [
    "dogs.groupby([\"Color\", \"Breed\"]).agg({\n",
    "        \"Name\": \"nunique\",\n",
    "    \"Visit Date\": \"count\"\n",
    "    })"
   ]
  },
  {
   "cell_type": "code",
   "execution_count": null,
   "metadata": {},
   "outputs": [],
   "source": [
    "dogs.pivot_table(values=\"Weight\", index=\"Color\")"
   ]
  },
  {
   "cell_type": "code",
   "execution_count": null,
   "metadata": {},
   "outputs": [],
   "source": [
    "import numpy as np\n",
    "dogs.pivot_table(values=\"Weight\", index=\"Color\", aggfunc=np.median)"
   ]
  },
  {
   "cell_type": "code",
   "execution_count": null,
   "metadata": {},
   "outputs": [],
   "source": [
    "dogs.pivot_table(values=\"Weight\", index=\"Color\", aggfunc=[np.mean, np.median])"
   ]
  },
  {
   "cell_type": "code",
   "execution_count": null,
   "metadata": {},
   "outputs": [],
   "source": [
    "dogs.pivot_table(values=\"Weight\", index=\"Color\", columns=\"Breed\")"
   ]
  },
  {
   "cell_type": "code",
   "execution_count": null,
   "metadata": {},
   "outputs": [],
   "source": [
    "dogs.pivot_table(values=\"Weight\", index=\"Color\", columns=\"Breed\", fill_value=0)"
   ]
  },
  {
   "cell_type": "code",
   "execution_count": null,
   "metadata": {},
   "outputs": [],
   "source": [
    "dogs.pivot_table(values=\"Weight\", index=Color\", columns=\"Breed\", fill_value=0, margins=True)"
   ]
  },
  {
   "cell_type": "code",
   "execution_count": 1,
   "metadata": {},
   "outputs": [],
   "source": [
    "import pandas as pd\n",
    "\n",
    "data = {\n",
    "    'breed': ['Labrador', 'Chow Chow', 'Poodle', 'Labrador', 'Beagle', 'Chihuahua', \n",
    "              'Poodle', 'Labrador', 'Beagle', 'Chow Chow'],\n",
    "    'color': ['Brown', 'Tan', 'White', 'Black', 'Brown', 'Grey', \n",
    "              'Brown', 'Black', 'White', 'Tan'],\n",
    "    'age': [3, 4, 2, 7, 5, 1, 3, 6, 4, 5],\n",
    "    'weight': [25, 18, 12, 30, 10, 3, 20, 28, 12, 17],\n",
    "    'date_of_birth': ['2016-01-01', '2015-06-15', '2017-03-20', '2014-09-10', '2015-12-01', '2018-05-05',\n",
    "                      '2017-03-20', '2014-09-10', '2015-12-01', '2015-06-15'],\n",
    "}\n",
    "\n",
    "dogs = pd.DataFrame(data)\n",
    "dogs['height'] = [23, 20, 20, 23, 21, 18, 22, 24, 21, 19]  # Adding height column\n"
   ]
  },
  {
   "cell_type": "code",
   "execution_count": null,
   "metadata": {},
   "outputs": [],
   "source": [
    "dogs.pivot_table(values='height', index='breed', columns='color', aggfunc='mean')"
   ]
  },
  {
   "cell_type": "code",
   "execution_count": null,
   "metadata": {},
   "outputs": [],
   "source": [
    "dogs.loc[dogs['breed'] == 'Poodle', ['height']]"
   ]
  },
  {
   "cell_type": "code",
   "execution_count": null,
   "metadata": {},
   "outputs": [],
   "source": [
    "dogs.mean(axis=\"index\") "
   ]
  },
  {
   "cell_type": "code",
   "execution_count": 1,
   "metadata": {},
   "outputs": [
    {
     "name": "stdout",
     "output_type": "stream",
     "text": [
      "  ward            alderman                          address    zip\n",
      "0    1  Proco \"Joe\" Moreno        2058 NORTH WESTERN AVENUE  60647\n",
      "1    2       Brian Hopkins       1400 NORTH  ASHLAND AVENUE  60622\n",
      "2    3          Pat Dowell          5046 SOUTH STATE STREET  60609\n",
      "3    4    William D. Burns  435 EAST 35TH STREET, 1ST FLOOR  60616\n",
      "4    5  Leslie A. Hairston            2325 EAST 71ST STREET  60649\n"
     ]
    }
   ],
   "source": []
  },
  {
   "cell_type": "markdown",
   "metadata": {},
   "source": [
    "## Advanced Merging "
   ]
  },
  {
   "cell_type": "code",
   "execution_count": 3,
   "metadata": {},
   "outputs": [
    {
     "name": "stdout",
     "output_type": "stream",
     "text": [
      "   iid  cid invoice_date  total\n",
      "0  101    1   2019-01-10    100\n",
      "1  102    2   2019-01-15    200\n",
      "2  103    3   2019-01-20    150\n",
      "0  104    4   2019-02-05    170\n",
      "1  105    5   2019-02-12    250\n",
      "2  106    6   2019-02-18    300\n",
      "3  107    7   2019-02-25    190\n",
      "0  108    8   2019-03-03    210\n",
      "1  109    9   2019-03-10    280\n",
      "2  110   10   2019-03-17    190\n",
      "3  111   11   2019-03-24    240\n",
      "4  112   12   2019-03-30    270\n"
     ]
    }
   ],
   "source": [
    "import pandas as pd \n",
    "\n",
    "# Invoice data for three months\n",
    "inv_jan = pd.DataFrame([\n",
    "    [101, 1, '2019-01-10', 100], \n",
    "    [102, 2, '2019-01-15', 200], \n",
    "    [103, 3, '2019-01-20', 150]\n",
    "], columns=['iid', 'cid', 'invoice_date', 'total'])\n",
    "\n",
    "inv_feb = pd.DataFrame([\n",
    "    [104, 4, '2019-02-05', 170], \n",
    "    [105, 5, '2019-02-12', 250], \n",
    "    [106, 6, '2019-02-18', 300], \n",
    "    [107, 7, '2019-02-25', 190]\n",
    "], columns=['iid', 'cid', 'invoice_date', 'total'])\n",
    "\n",
    "inv_mar = pd.DataFrame([\n",
    "    [108, 8, '2019-03-03', 210], \n",
    "    [109, 9, '2019-03-10', 280], \n",
    "    [110, 10, '2019-03-17', 190], \n",
    "    [111, 11, '2019-03-24', 240], \n",
    "    [112, 12, '2019-03-30', 270]\n",
    "], columns=['iid', 'cid', 'invoice_date', 'total'])\n",
    "\n",
    "# Concatenating tables\n",
    "combined = pd.concat([inv_jan, inv_feb, inv_mar])\n",
    "print(combined)\n"
   ]
  },
  {
   "cell_type": "code",
   "execution_count": 4,
   "metadata": {},
   "outputs": [
    {
     "name": "stdout",
     "output_type": "stream",
     "text": [
      "    iid  cid invoice_date  total\n",
      "0   101    1   2019-01-10    100\n",
      "1   102    2   2019-01-15    200\n",
      "2   103    3   2019-01-20    150\n",
      "3   104    4   2019-02-05    170\n",
      "4   105    5   2019-02-12    250\n",
      "5   106    6   2019-02-18    300\n",
      "6   107    7   2019-02-25    190\n",
      "7   108    8   2019-03-03    210\n",
      "8   109    9   2019-03-10    280\n",
      "9   110   10   2019-03-17    190\n",
      "10  111   11   2019-03-24    240\n",
      "11  112   12   2019-03-30    270\n"
     ]
    }
   ],
   "source": [
    "combined_reset = pd.concat([inv_jan, inv_feb, inv_mar], ignore_index=True)\n",
    "print(combined_reset)"
   ]
  },
  {
   "cell_type": "code",
   "execution_count": 9,
   "metadata": {},
   "outputs": [
    {
     "name": "stdout",
     "output_type": "stream",
     "text": [
      "       iid  cid invoice_date  total\n",
      "Jan 0  101    1   2019-01-10    100\n",
      "    1  102    2   2019-01-15    200\n",
      "    2  103    3   2019-01-20    150\n",
      "Feb 0  104    4   2019-02-05    170\n",
      "    1  105    5   2019-02-12    250\n",
      "    2  106    6   2019-02-18    300\n",
      "    3  107    7   2019-02-25    190\n",
      "Mar 0  108    8   2019-03-03    210\n",
      "    1  109    9   2019-03-10    280\n",
      "    2  110   10   2019-03-17    190\n",
      "    3  111   11   2019-03-24    240\n",
      "    4  112   12   2019-03-30    270\n"
     ]
    }
   ],
   "source": [
    "combined_keys = pd.concat(\n",
    "              [inv_jan, inv_feb, inv_mar], \n",
    "              ignore_index=False,\n",
    "              keys=['Jan', 'Feb', 'Mar'])\n",
    "print(combined_keys)"
   ]
  },
  {
   "cell_type": "code",
   "execution_count": 11,
   "metadata": {},
   "outputs": [
    {
     "name": "stdout",
     "output_type": "stream",
     "text": [
      "   iid  cid invoice_date  total billing_country\n",
      "0  101    1   2019-01-10    100             NaN\n",
      "1  102    2   2019-01-15    200             NaN\n",
      "2  103    3   2019-01-20    150             NaN\n",
      "0  104    4   2019-02-05    170              US\n",
      "1  105    5   2019-02-12    250              CA\n",
      "2  106    6   2019-02-18    300              UK\n",
      "3  107    7   2019-02-25    190              FR\n"
     ]
    }
   ],
   "source": [
    "inv_feb = pd.DataFrame([\n",
    "    [104, 4, '2019-02-05', 170, 'US'], \n",
    "    [105, 5, '2019-02-12', 250, 'CA'], \n",
    "    [106, 6, '2019-02-18', 300, 'UK'], \n",
    "    [107, 7, '2019-02-25', 190, 'FR']\n",
    "], columns=['iid', 'cid', 'invoice_date', 'total', 'billing_country'])\n",
    "\n",
    "combined_diff = pd.concat([inv_jan, inv_feb])\n",
    "print(combined_diff)"
   ]
  },
  {
   "cell_type": "code",
   "execution_count": 14,
   "metadata": {},
   "outputs": [
    {
     "name": "stdout",
     "output_type": "stream",
     "text": [
      "  billing_country  cid  iid invoice_date  total\n",
      "0             NaN    1  101   2019-01-10    100\n",
      "1             NaN    2  102   2019-01-15    200\n",
      "2             NaN    3  103   2019-01-20    150\n",
      "0              US    4  104   2019-02-05    170\n",
      "1              CA    5  105   2019-02-12    250\n",
      "2              UK    6  106   2019-02-18    300\n",
      "3              FR    7  107   2019-02-25    190\n"
     ]
    }
   ],
   "source": [
    "sort_diff = pd.concat([inv_jan, inv_feb], sort=True)\n",
    "print(sort_diff)"
   ]
  },
  {
   "cell_type": "code",
   "execution_count": 15,
   "metadata": {},
   "outputs": [
    {
     "name": "stdout",
     "output_type": "stream",
     "text": [
      "   iid  cid invoice_date  total\n",
      "0  101    1   2019-01-10    100\n",
      "1  102    2   2019-01-15    200\n",
      "2  103    3   2019-01-20    150\n",
      "0  104    4   2019-02-05    170\n",
      "1  105    5   2019-02-12    250\n",
      "2  106    6   2019-02-18    300\n",
      "3  107    7   2019-02-25    190\n"
     ]
    }
   ],
   "source": [
    "combined_inner = pd.concat([inv_jan, inv_feb], join=\"inner\")\n",
    "print(combined_inner)"
   ]
  }
 ],
 "metadata": {
  "kernelspec": {
   "display_name": "Python 3",
   "language": "python",
   "name": "python3"
  },
  "language_info": {
   "codemirror_mode": {
    "name": "ipython",
    "version": 3
   },
   "file_extension": ".py",
   "mimetype": "text/x-python",
   "name": "python",
   "nbconvert_exporter": "python",
   "pygments_lexer": "ipython3",
   "version": "3.11.9"
  }
 },
 "nbformat": 4,
 "nbformat_minor": 2
}
