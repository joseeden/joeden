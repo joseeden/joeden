{
 "cells": [
  {
   "cell_type": "markdown",
   "metadata": {},
   "source": [
    "# Scratch \n",
    "\n",
    "This file is used for short one-off tests."
   ]
  },
  {
   "cell_type": "markdown",
   "metadata": {},
   "source": [
    "<a href=\"https://colab.research.google.com/github/joseeden/joeden/blob/master/docs/021-Software-Engineering/021-Jupyter-Notebooks/001-Using-Pandas/999-Scratch.ipynb\" target=\"_parent\"><img src=\"https://colab.research.google.com/assets/colab-badge.svg\" alt=\"Open In Colab\"/></a>"
   ]
  },
  {
   "cell_type": "code",
   "execution_count": null,
   "metadata": {},
   "outputs": [],
   "source": [
    "import pandas as pd\n",
    "\n",
    "data = {\n",
    "    \"Name\": [\"Ted\", \"Stella\", \"Ted\", \"Robin\", \"Ted\", \"Stella\"],\n",
    "    \"Breed\": [\"Labrador\", \"Golden Retriever\", \"Chow Chow\", \"Poodle\", \"Labrador\", \"Golden Retriever\"],\n",
    "    \"Color\": [\"Black\", \"Golden\", \"Brown\", \"White\", \"Black\", \"Golden\"],\n",
    "    \"Visit Date\": [\"2023-01-10\", \"2023-01-12\", \"2023-01-15\", \"2023-01-18\", \"2023-01-20\", \"2023-01-22\"],\n",
    "    \"Weight\": [30, 25, 28, 20, 32, 26]  # Add weights in kilograms\n",
    "}\n",
    "\n",
    "dogs = pd.DataFrame(data)\n",
    "print(dogs)\n"
   ]
  },
  {
   "cell_type": "code",
   "execution_count": null,
   "metadata": {},
   "outputs": [],
   "source": [
    "dogs.groupby(\"Breed\")[\"Name\"].count()"
   ]
  },
  {
   "cell_type": "code",
   "execution_count": null,
   "metadata": {},
   "outputs": [],
   "source": [
    "dogs.groupby(\"Color\").agg({\n",
    "        \"Name\": \"nunique\",\n",
    "        \"Visit Date\": \"count\"\n",
    "    })"
   ]
  },
  {
   "cell_type": "code",
   "execution_count": null,
   "metadata": {},
   "outputs": [],
   "source": [
    "dogs.groupby([\"Color\", \"Breed\"])[\"Name\"].count()"
   ]
  },
  {
   "cell_type": "code",
   "execution_count": null,
   "metadata": {},
   "outputs": [],
   "source": [
    "dogs.groupby([\"Color\", \"Breed\"]).agg({\n",
    "        \"Name\": \"nunique\",\n",
    "    \"Visit Date\": \"count\"\n",
    "    })"
   ]
  },
  {
   "cell_type": "code",
   "execution_count": null,
   "metadata": {},
   "outputs": [],
   "source": [
    "dogs.pivot_table(values=\"Weight\", index=\"Color\")"
   ]
  },
  {
   "cell_type": "code",
   "execution_count": null,
   "metadata": {},
   "outputs": [],
   "source": [
    "import numpy as np\n",
    "dogs.pivot_table(values=\"Weight\", index=\"Color\", aggfunc=np.median)"
   ]
  },
  {
   "cell_type": "code",
   "execution_count": null,
   "metadata": {},
   "outputs": [],
   "source": [
    "dogs.pivot_table(values=\"Weight\", index=\"Color\", aggfunc=[np.mean, np.median])"
   ]
  },
  {
   "cell_type": "code",
   "execution_count": null,
   "metadata": {},
   "outputs": [],
   "source": [
    "dogs.pivot_table(values=\"Weight\", index=\"Color\", columns=\"Breed\")"
   ]
  },
  {
   "cell_type": "code",
   "execution_count": null,
   "metadata": {},
   "outputs": [],
   "source": [
    "dogs.pivot_table(values=\"Weight\", index=\"Color\", columns=\"Breed\", fill_value=0)"
   ]
  },
  {
   "cell_type": "code",
   "execution_count": null,
   "metadata": {},
   "outputs": [],
   "source": [
    "dogs.pivot_table(values=\"Weight\", index=Color\", columns=\"Breed\", fill_value=0, margins=True)"
   ]
  },
  {
   "cell_type": "code",
   "execution_count": 1,
   "metadata": {},
   "outputs": [],
   "source": [
    "import pandas as pd\n",
    "\n",
    "data = {\n",
    "    'breed': ['Labrador', 'Chow Chow', 'Poodle', 'Labrador', 'Beagle', 'Chihuahua', \n",
    "              'Poodle', 'Labrador', 'Beagle', 'Chow Chow'],\n",
    "    'color': ['Brown', 'Tan', 'White', 'Black', 'Brown', 'Grey', \n",
    "              'Brown', 'Black', 'White', 'Tan'],\n",
    "    'age': [3, 4, 2, 7, 5, 1, 3, 6, 4, 5],\n",
    "    'weight': [25, 18, 12, 30, 10, 3, 20, 28, 12, 17],\n",
    "    'date_of_birth': ['2016-01-01', '2015-06-15', '2017-03-20', '2014-09-10', '2015-12-01', '2018-05-05',\n",
    "                      '2017-03-20', '2014-09-10', '2015-12-01', '2015-06-15'],\n",
    "}\n",
    "\n",
    "dogs = pd.DataFrame(data)\n",
    "dogs['height'] = [23, 20, 20, 23, 21, 18, 22, 24, 21, 19]  # Adding height column\n"
   ]
  },
  {
   "cell_type": "code",
   "execution_count": null,
   "metadata": {},
   "outputs": [],
   "source": [
    "dogs.pivot_table(values='height', index='breed', columns='color', aggfunc='mean')"
   ]
  },
  {
   "cell_type": "code",
   "execution_count": null,
   "metadata": {},
   "outputs": [],
   "source": [
    "dogs.loc[dogs['breed'] == 'Poodle', ['height']]"
   ]
  },
  {
   "cell_type": "code",
   "execution_count": null,
   "metadata": {},
   "outputs": [],
   "source": [
    "dogs.mean(axis=\"index\") "
   ]
  },
  {
   "cell_type": "code",
   "execution_count": 1,
   "metadata": {},
   "outputs": [
    {
     "name": "stdout",
     "output_type": "stream",
     "text": [
      "  ward            alderman                          address    zip\n",
      "0    1  Proco \"Joe\" Moreno        2058 NORTH WESTERN AVENUE  60647\n",
      "1    2       Brian Hopkins       1400 NORTH  ASHLAND AVENUE  60622\n",
      "2    3          Pat Dowell          5046 SOUTH STATE STREET  60609\n",
      "3    4    William D. Burns  435 EAST 35TH STREET, 1ST FLOOR  60616\n",
      "4    5  Leslie A. Hairston            2325 EAST 71ST STREET  60649\n"
     ]
    }
   ],
   "source": []
  }
 ],
 "metadata": {
  "kernelspec": {
   "display_name": "Python 3",
   "language": "python",
   "name": "python3"
  },
  "language_info": {
   "codemirror_mode": {
    "name": "ipython",
    "version": 3
   },
   "file_extension": ".py",
   "mimetype": "text/x-python",
   "name": "python",
   "nbconvert_exporter": "python",
   "pygments_lexer": "ipython3",
   "version": "3.11.9"
  }
 },
 "nbformat": 4,
 "nbformat_minor": 2
}
