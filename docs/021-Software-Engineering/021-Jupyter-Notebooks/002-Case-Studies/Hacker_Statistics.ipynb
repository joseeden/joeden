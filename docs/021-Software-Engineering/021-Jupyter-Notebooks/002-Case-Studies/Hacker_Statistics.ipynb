{
  "cells": [
    {
      "cell_type": "markdown",
      "metadata": {
        "colab_type": "text",
        "id": "view-in-github"
      },
      "source": [
        "<a href=\"https://colab.research.google.com/github/joseeden/joeden/blob/master/docs/021-Software-Engineering/021-Jupyter-Notebooks/002-Case-Studies/Hacker_Statistics.ipynb\" target=\"_parent\"><img src=\"https://colab.research.google.com/assets/colab-badge.svg\" alt=\"Open In Colab\"/></a>"
      ]
    },
    {
      "cell_type": "markdown",
      "metadata": {
        "id": "lf3fbYz7T6er"
      },
      "source": [
        "# Hacker Statistics\n",
        "\n",
        "Hacker statistics involve using simulations and random sampling to estimate probabilities or solve problems. It’s a powerful tool in data science for understanding complex systems.\n",
        "\n",
        "\n",
        "## Random Walk Game\n",
        "\n",
        "Scenario: You're climbing the Empire State Building, playing a dice game.  \n",
        "\n",
        "Rules:  \n",
        "\n",
        "- Roll the dice 100 times.  \n",
        "- If you roll **1 or 2**, go **1 step down** (but not below step 0).  \n",
        "- If you roll **3, 4, or 5**, go **1 step up**.  \n",
        "- If you roll a **6**, roll again and go up the resulting number of steps.  \n",
        "- There's a **0.1% chance** of falling and starting over from step 0 each move.  \n",
        "\n",
        "Your goal: **Reach step 60.**\n",
        "\n",
        "## Solving the Game\n",
        "\n",
        "How likely are you to win?  \n",
        "\n",
        "- **Analytical solution:** Use equations to calculate probabilities (complex).  \n",
        "- **Simulation:** Run thousands of random trials to estimate success probability.\n",
        "\n",
        "The second approach, called **hacker statistics**, is the one we'll use.\n",
        "\n",
        "## Random Number Generators\n",
        "\n",
        "Example: Generate random numbers between 0 and 1. To do this, we can use `numpy` for randomness.   "
      ]
    },
    {
      "cell_type": "code",
      "execution_count": 1,
      "metadata": {
        "colab": {
          "base_uri": "https://localhost:8080/"
        },
        "id": "TGgj5gv5Vhnr",
        "outputId": "1808e04b-56b3-4b6a-fcd0-070c2ca6f48f"
      },
      "outputs": [
        {
          "name": "stdout",
          "output_type": "stream",
          "text": [
            "0.5219193773560805\n"
          ]
        }
      ],
      "source": [
        "import numpy as np\n",
        "\n",
        "np.random.seed()\n",
        "print(np.random.rand())"
      ]
    },
    {
      "cell_type": "markdown",
      "metadata": {
        "id": "XKYHPKyoWGmx"
      },
      "source": [
        "## How the random numbers are generated\n",
        "\n",
        "Those random numbers are typically generated using a mathematical formula, starting from a random seed which is chosen by Python when we ran the `rand` function. We can also set the seed manually.\n"
      ]
    },
    {
      "cell_type": "code",
      "execution_count": 2,
      "metadata": {
        "colab": {
          "base_uri": "https://localhost:8080/"
        },
        "id": "6PaIgjT2WNVm",
        "outputId": "53a64364-ea76-4511-f02d-9598204464ea"
      },
      "outputs": [
        {
          "name": "stdout",
          "output_type": "stream",
          "text": [
            "0.6964691855978616\n"
          ]
        }
      ],
      "source": [
        "import numpy as np\n",
        "\n",
        "np.random.seed(123)       # Set seed for reproducibility\n",
        "print(np.random.rand())"
      ]
    }
  ],
  "metadata": {
    "colab": {
      "authorship_tag": "ABX9TyOt8lUwlZLKvt/GTPl1JlA5",
      "include_colab_link": true,
      "provenance": []
    },
    "kernelspec": {
      "display_name": "Python 3",
      "name": "python3"
    },
    "language_info": {
      "name": "python"
    }
  },
  "nbformat": 4,
  "nbformat_minor": 0
}
