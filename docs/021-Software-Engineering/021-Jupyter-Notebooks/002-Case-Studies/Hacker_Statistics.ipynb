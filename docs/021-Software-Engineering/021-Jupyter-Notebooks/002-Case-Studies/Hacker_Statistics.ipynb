{
  "nbformat": 4,
  "nbformat_minor": 0,
  "metadata": {
    "colab": {
      "provenance": [],
      "toc_visible": true,
      "authorship_tag": "ABX9TyPrAt4hMRK4APvNQZtBFNmW",
      "include_colab_link": true
    },
    "kernelspec": {
      "name": "python3",
      "display_name": "Python 3"
    },
    "language_info": {
      "name": "python"
    }
  },
  "cells": [
    {
      "cell_type": "markdown",
      "metadata": {
        "id": "view-in-github",
        "colab_type": "text"
      },
      "source": [
        "<a href=\"https://colab.research.google.com/github/joseeden/joeden/blob/master/docs/021-Software-Engineering/021-Jupyter-Notebooks/002-Case-Studies/Hacker_Statistics.ipynb\" target=\"_parent\"><img src=\"https://colab.research.google.com/assets/colab-badge.svg\" alt=\"Open In Colab\"/></a>"
      ]
    },
    {
      "cell_type": "markdown",
      "source": [
        "# Hacker Statistics\n",
        "\n",
        "Hacker statistics involve using simulations and random sampling to estimate probabilities or solve problems. It’s a powerful tool in data science for understanding complex systems."
      ],
      "metadata": {
        "id": "lf3fbYz7T6er"
      }
    },
    {
      "cell_type": "markdown",
      "source": [
        "# Random Number Generators\n",
        "\n",
        "Example: Generate random numbers between 0 and 1. To do this, we can use `numpy` for randomness.   "
      ],
      "metadata": {
        "id": "35nuAlsSdrYb"
      }
    },
    {
      "cell_type": "code",
      "source": [
        "import numpy as np\n",
        "\n",
        "np.random.seed()\n",
        "print(np.random.rand())"
      ],
      "metadata": {
        "id": "TGgj5gv5Vhnr",
        "colab": {
          "base_uri": "https://localhost:8080/"
        },
        "outputId": "fa5e67b2-9948-4c2b-8915-85e65dddd062"
      },
      "execution_count": 10,
      "outputs": [
        {
          "output_type": "stream",
          "name": "stdout",
          "text": [
            "0.2988231033057177\n"
          ]
        }
      ]
    },
    {
      "cell_type": "markdown",
      "source": [
        "# How the random numbers are generated\n",
        "\n",
        "Those random numbers are typically generated using a mathematical formula, starting from a random seed which is chosen by Python when we ran the `rand` function. We can also set the seed manually.\n"
      ],
      "metadata": {
        "id": "XKYHPKyoWGmx"
      }
    },
    {
      "cell_type": "code",
      "source": [
        "import numpy as np\n",
        "\n",
        "np.random.seed(123)       # Set seed for reproducibility\n",
        "print(np.random.rand())"
      ],
      "metadata": {
        "colab": {
          "base_uri": "https://localhost:8080/"
        },
        "id": "6PaIgjT2WNVm",
        "outputId": "9c60fa3d-53e3-44b8-fbb9-9997d8f995e3"
      },
      "execution_count": 11,
      "outputs": [
        {
          "output_type": "stream",
          "name": "stdout",
          "text": [
            "0.6964691855978616\n"
          ]
        }
      ]
    },
    {
      "cell_type": "markdown",
      "source": [
        "# Simulating a Coin Toss\n",
        "\n",
        "To simulate a coin toss, use `randint()`. If you specify the seed and run the code, you'll notice that it will return the same output every single time. If seed is not specified, the code can return either 0 or 1."
      ],
      "metadata": {
        "id": "dHYSzuBAtmLN"
      }
    },
    {
      "cell_type": "code",
      "source": [
        "# Simulate a coin toss (0 = heads, 1 = tails)\n",
        "import numpy as np\n",
        "\n",
        "np.random.seed(246)             ## seed can be set to anything\n",
        "coin = np.random.randint(0, 2)  ## 0 to 1, recall that index 2 is not included\n",
        "print(\"Coin:\", coin)\n",
        "\n",
        "if coin == 0:\n",
        "    print(\"Heads\")\n",
        "else:\n",
        "    print(\"Tails\")"
      ],
      "metadata": {
        "id": "oqAwvikgtpTx"
      },
      "execution_count": null,
      "outputs": []
    },
    {
      "cell_type": "markdown",
      "source": [
        "# Random Walk Game\n",
        "\n",
        "Scenario: You're climbing the Empire State Building, playing a dice game.  \n",
        "\n",
        "Rules:  \n",
        "\n",
        "- Roll the dice 100 times.  \n",
        "- If you roll **1 or 2**, go **1 step down** (but not below step 0).  \n",
        "- If you roll **3, 4, or 5**, go **1 step up**.  \n",
        "- If you roll a **6**, roll again and go up the resulting number of steps.  \n",
        "- There's a **0.1% chance** of falling and starting over from step 0 each move.  \n",
        "\n",
        "Your goal: **Reach step 60.**"
      ],
      "metadata": {
        "id": "EVchprQIdP4-"
      }
    },
    {
      "cell_type": "markdown",
      "source": [
        "# Solving the Game\n",
        "\n",
        "How likely are you to win?  \n",
        "\n",
        "- **Analytical solution:** Use equations to calculate probabilities (complex).  \n",
        "- **Simulation:** Run thousands of random trials to estimate success probability.\n",
        "\n",
        "The second approach, called **hacker statistics**, is the one we'll use.\n"
      ],
      "metadata": {
        "id": "qN-9PJfkddr9"
      }
    }
  ]
}