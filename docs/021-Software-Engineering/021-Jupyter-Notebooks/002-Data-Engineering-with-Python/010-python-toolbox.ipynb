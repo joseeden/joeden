{
 "cells": [
  {
   "cell_type": "markdown",
   "metadata": {},
   "source": [
    "<a href=\"https://colab.research.google.com/github/joseeden/joeden/blob/master/docs/021-Software-Engineering/021-Jupyter-Notebooks/002-Data-Engineering-with-Python/010-python-toolbox.ipynb\" target=\"_parent\"><img src=\"https://colab.research.google.com/assets/colab-badge.svg\" alt=\"Open In Colab\"/></a>"
   ]
  },
  {
   "cell_type": "markdown",
   "metadata": {},
   "source": [
    "## Case Study: World Development Indicators"
   ]
  },
  {
   "cell_type": "markdown",
   "metadata": {},
   "source": [
    "In this case study, we'll use Python functions, iterators, and list comprehensions to analyze World Bank's World Development Indicators dataset. The dataset includes global economic and social indicators over several decades.  \n",
    "\n",
    "- Covers 217 countries from 1960 to 2015  \n",
    "- Includes indicators like population, electricity use, and CO2 emissions  \n",
    "- Tracks literacy rates, unemployment, and mortality  "
   ]
  },
  {
   "cell_type": "markdown",
   "metadata": {},
   "source": []
  },
  {
   "cell_type": "markdown",
   "metadata": {},
   "source": [
    "## Objectives\n",
    "\n",
    "- **Work with Dictionaries**  \n",
    "  - Store and retrieve country-level data efficiently  \n",
    "  - Use keys for quick lookups of indicators  \n",
    "\n",
    "- **Use List Comprehensions**  \n",
    "  - Extract specific indicators in a single line  \n",
    "  - Improve readability and performance  \n",
    "\n",
    "- **Apply Custom Functions**  \n",
    "  - Automate data transformations  \n",
    "  - Handle missing values and format data consistently  "
   ]
  },
  {
   "cell_type": "markdown",
   "metadata": {},
   "source": [
    "## Zipping Lists \n",
    "\n",
    "We need to load the \"WDICSV.csv\" and do the following:\n",
    "\n",
    "- Save the first row (column names) to `feature_names` list.\n",
    "- Save the second row (records) to `row_vals` list.\n",
    "\n",
    "Convert the two related lists below into a dictionary.\n",
    "\n",
    "- Use `zip` to pair names with values  \n",
    "- Convert to a dictionary using `dict()`"
   ]
  },
  {
   "cell_type": "code",
   "execution_count": null,
   "metadata": {},
   "outputs": [
    {
     "name": "stdout",
     "output_type": "stream",
     "text": [
      "<class 'list'>\n",
      "['Country Name', 'Country Code', 'Indicator Name', 'Indicator Code', np.float64(1960.0), np.float64(1961.0), np.float64(1962.0), np.float64(1963.0), np.float64(1964.0), np.float64(1965.0), np.float64(1966.0), np.float64(1967.0), np.float64(1968.0), np.float64(1969.0), np.float64(1970.0), np.float64(1971.0), np.float64(1972.0), np.float64(1973.0), np.float64(1974.0), np.float64(1975.0), np.float64(1976.0), np.float64(1977.0), np.float64(1978.0), np.float64(1979.0), np.float64(1980.0), np.float64(1981.0), np.float64(1982.0), np.float64(1983.0), np.float64(1984.0), np.float64(1985.0), np.float64(1986.0), np.float64(1987.0), np.float64(1988.0), np.float64(1989.0), np.float64(1990.0), np.float64(1991.0), np.float64(1992.0), np.float64(1993.0), np.float64(1994.0), np.float64(1995.0), np.float64(1996.0), np.float64(1997.0), np.float64(1998.0), np.float64(1999.0), np.float64(2000.0), np.float64(2001.0), np.float64(2002.0), np.float64(2003.0), np.float64(2004.0), np.float64(2005.0), np.float64(2006.0), np.float64(2007.0), np.float64(2008.0), np.float64(2009.0), np.float64(2010.0), np.float64(2011.0), np.float64(2012.0), np.float64(2013.0), np.float64(2014.0), np.float64(2015.0), np.float64(2016.0), np.float64(2017.0), np.float64(2018.0), np.float64(2019.0), np.float64(2020.0), np.float64(2021.0), np.float64(2022.0), np.float64(2023.0)]\n",
      "<class 'list'>\n",
      "['Africa Eastern and Southern', 'AFE', 'Access to clean fuels and technologies for cooking (% of population)', 'EG.CFT.ACCS.ZS', np.float64(nan), np.float64(nan), np.float64(nan), np.float64(nan), np.float64(nan), np.float64(nan), np.float64(nan), np.float64(nan), np.float64(nan), np.float64(nan), np.float64(nan), np.float64(nan), np.float64(nan), np.float64(nan), np.float64(nan), np.float64(nan), np.float64(nan), np.float64(nan), np.float64(nan), np.float64(nan), np.float64(nan), np.float64(nan), np.float64(nan), np.float64(nan), np.float64(nan), np.float64(nan), np.float64(nan), np.float64(nan), np.float64(nan), np.float64(nan), np.float64(nan), np.float64(nan), np.float64(nan), np.float64(nan), np.float64(nan), np.float64(nan), np.float64(nan), np.float64(nan), np.float64(nan), np.float64(nan), np.float64(11.46092162009378), np.float64(11.785469025263218), np.float64(12.11985170514022), np.float64(12.506167247271955), np.float64(12.890711581247318), np.float64(13.324145166926224), np.float64(13.790770355794976), np.float64(14.222858715950077), np.float64(14.649063216214405), np.float64(15.151685744937112), np.float64(15.61556698706332), np.float64(16.03988187308025), np.float64(16.520601684393533), np.float64(16.953687926627758), np.float64(17.488496745150705), np.float64(18.001597439514377), np.float64(18.558233863647725), np.float64(19.043572004901343), np.float64(19.586457330942228), np.float64(20.19206395014411), np.float64(20.828813562780468), np.float64(21.37216351187405), np.float64(22.10088398563664), np.float64(nan)]\n"
     ]
    }
   ],
   "source": [
    "import pandas as pd \n",
    "\n",
    "url = 'https://raw.githubusercontent.com/joseeden/joeden/refs/heads/master/docs/021-Software-Engineering/021-Jupyter-Notebooks/002-Data-Engineering-with-Python/WDICSV.csv'\n",
    "\n",
    "df = pd.read_csv(url, header=None)\n",
    "feature_names = df.iloc[0].tolist()\n",
    "row_vals = df.iloc[1].tolist()\n",
    "\n",
    "print(type(feature_names))\n",
    "print(feature_names)\n",
    "\n",
    "print(type(row_vals))\n",
    "print(row_vals)"
   ]
  },
  {
   "cell_type": "markdown",
   "metadata": {},
   "source": [
    "Next, zip the lists together and convert to a dictionary."
   ]
  },
  {
   "cell_type": "code",
   "execution_count": 19,
   "metadata": {},
   "outputs": [
    {
     "name": "stdout",
     "output_type": "stream",
     "text": [
      "<class 'zip'>\n",
      "<zip object at 0x000002B01204C940>\n",
      "<class 'dict'>\n",
      "{'Country Name': 'Africa Eastern and Southern', 'Country Code': 'AFE', 'Indicator Name': 'Access to clean fuels and technologies for cooking (% of population)', 'Indicator Code': 'EG.CFT.ACCS.ZS', np.float64(1960.0): np.float64(nan), np.float64(1961.0): np.float64(nan), np.float64(1962.0): np.float64(nan), np.float64(1963.0): np.float64(nan), np.float64(1964.0): np.float64(nan), np.float64(1965.0): np.float64(nan), np.float64(1966.0): np.float64(nan), np.float64(1967.0): np.float64(nan), np.float64(1968.0): np.float64(nan), np.float64(1969.0): np.float64(nan), np.float64(1970.0): np.float64(nan), np.float64(1971.0): np.float64(nan), np.float64(1972.0): np.float64(nan), np.float64(1973.0): np.float64(nan), np.float64(1974.0): np.float64(nan), np.float64(1975.0): np.float64(nan), np.float64(1976.0): np.float64(nan), np.float64(1977.0): np.float64(nan), np.float64(1978.0): np.float64(nan), np.float64(1979.0): np.float64(nan), np.float64(1980.0): np.float64(nan), np.float64(1981.0): np.float64(nan), np.float64(1982.0): np.float64(nan), np.float64(1983.0): np.float64(nan), np.float64(1984.0): np.float64(nan), np.float64(1985.0): np.float64(nan), np.float64(1986.0): np.float64(nan), np.float64(1987.0): np.float64(nan), np.float64(1988.0): np.float64(nan), np.float64(1989.0): np.float64(nan), np.float64(1990.0): np.float64(nan), np.float64(1991.0): np.float64(nan), np.float64(1992.0): np.float64(nan), np.float64(1993.0): np.float64(nan), np.float64(1994.0): np.float64(nan), np.float64(1995.0): np.float64(nan), np.float64(1996.0): np.float64(nan), np.float64(1997.0): np.float64(nan), np.float64(1998.0): np.float64(nan), np.float64(1999.0): np.float64(nan), np.float64(2000.0): np.float64(11.46092162009378), np.float64(2001.0): np.float64(11.785469025263218), np.float64(2002.0): np.float64(12.11985170514022), np.float64(2003.0): np.float64(12.506167247271955), np.float64(2004.0): np.float64(12.890711581247318), np.float64(2005.0): np.float64(13.324145166926224), np.float64(2006.0): np.float64(13.790770355794976), np.float64(2007.0): np.float64(14.222858715950077), np.float64(2008.0): np.float64(14.649063216214405), np.float64(2009.0): np.float64(15.151685744937112), np.float64(2010.0): np.float64(15.61556698706332), np.float64(2011.0): np.float64(16.03988187308025), np.float64(2012.0): np.float64(16.520601684393533), np.float64(2013.0): np.float64(16.953687926627758), np.float64(2014.0): np.float64(17.488496745150705), np.float64(2015.0): np.float64(18.001597439514377), np.float64(2016.0): np.float64(18.558233863647725), np.float64(2017.0): np.float64(19.043572004901343), np.float64(2018.0): np.float64(19.586457330942228), np.float64(2019.0): np.float64(20.19206395014411), np.float64(2020.0): np.float64(20.828813562780468), np.float64(2021.0): np.float64(21.37216351187405), np.float64(2022.0): np.float64(22.10088398563664), np.float64(2023.0): np.float64(nan)}\n"
     ]
    }
   ],
   "source": [
    "zipped_lists = zip(feature_names, row_vals)\n",
    "print(type(zipped_lists))\n",
    "print(zipped_lists)\n",
    "\n",
    "conv_lists = dict(zipped_lists)\n",
    "print(type(conv_lists))\n",
    "print(conv_lists)"
   ]
  },
  {
   "cell_type": "markdown",
   "metadata": {},
   "source": [
    "## Make it Reusable\n",
    "\n",
    "Manually repeating code for multiple rows is inefficient. Use a function to make it reusable and concise."
   ]
  },
  {
   "cell_type": "code",
   "execution_count": 20,
   "metadata": {},
   "outputs": [
    {
     "name": "stdout",
     "output_type": "stream",
     "text": [
      "{'Country Name': 'Africa Eastern and Southern', 'Country Code': 'AFE', 'Indicator Name': 'Access to clean fuels and technologies for cooking (% of population)', 'Indicator Code': 'EG.CFT.ACCS.ZS', np.float64(1960.0): np.float64(nan), np.float64(1961.0): np.float64(nan), np.float64(1962.0): np.float64(nan), np.float64(1963.0): np.float64(nan), np.float64(1964.0): np.float64(nan), np.float64(1965.0): np.float64(nan), np.float64(1966.0): np.float64(nan), np.float64(1967.0): np.float64(nan), np.float64(1968.0): np.float64(nan), np.float64(1969.0): np.float64(nan), np.float64(1970.0): np.float64(nan), np.float64(1971.0): np.float64(nan), np.float64(1972.0): np.float64(nan), np.float64(1973.0): np.float64(nan), np.float64(1974.0): np.float64(nan), np.float64(1975.0): np.float64(nan), np.float64(1976.0): np.float64(nan), np.float64(1977.0): np.float64(nan), np.float64(1978.0): np.float64(nan), np.float64(1979.0): np.float64(nan), np.float64(1980.0): np.float64(nan), np.float64(1981.0): np.float64(nan), np.float64(1982.0): np.float64(nan), np.float64(1983.0): np.float64(nan), np.float64(1984.0): np.float64(nan), np.float64(1985.0): np.float64(nan), np.float64(1986.0): np.float64(nan), np.float64(1987.0): np.float64(nan), np.float64(1988.0): np.float64(nan), np.float64(1989.0): np.float64(nan), np.float64(1990.0): np.float64(nan), np.float64(1991.0): np.float64(nan), np.float64(1992.0): np.float64(nan), np.float64(1993.0): np.float64(nan), np.float64(1994.0): np.float64(nan), np.float64(1995.0): np.float64(nan), np.float64(1996.0): np.float64(nan), np.float64(1997.0): np.float64(nan), np.float64(1998.0): np.float64(nan), np.float64(1999.0): np.float64(nan), np.float64(2000.0): np.float64(11.46092162009378), np.float64(2001.0): np.float64(11.785469025263218), np.float64(2002.0): np.float64(12.11985170514022), np.float64(2003.0): np.float64(12.506167247271955), np.float64(2004.0): np.float64(12.890711581247318), np.float64(2005.0): np.float64(13.324145166926224), np.float64(2006.0): np.float64(13.790770355794976), np.float64(2007.0): np.float64(14.222858715950077), np.float64(2008.0): np.float64(14.649063216214405), np.float64(2009.0): np.float64(15.151685744937112), np.float64(2010.0): np.float64(15.61556698706332), np.float64(2011.0): np.float64(16.03988187308025), np.float64(2012.0): np.float64(16.520601684393533), np.float64(2013.0): np.float64(16.953687926627758), np.float64(2014.0): np.float64(17.488496745150705), np.float64(2015.0): np.float64(18.001597439514377), np.float64(2016.0): np.float64(18.558233863647725), np.float64(2017.0): np.float64(19.043572004901343), np.float64(2018.0): np.float64(19.586457330942228), np.float64(2019.0): np.float64(20.19206395014411), np.float64(2020.0): np.float64(20.828813562780468), np.float64(2021.0): np.float64(21.37216351187405), np.float64(2022.0): np.float64(22.10088398563664), np.float64(2023.0): np.float64(nan)}\n"
     ]
    }
   ],
   "source": [
    "def list2dict(list1, list2):\n",
    "  \"\"\"\n",
    "  Return a docitionary with \n",
    "  list 1 as keys and \n",
    "  list 2 as values\n",
    "  \"\"\"\n",
    "  \n",
    "  zipped_lists = zip(list1, list2)\n",
    "  rs_dict = dict(zipped_lists)\n",
    "  return rs_dict\n",
    "\n",
    "converted_list = list2dict(feature_names, row_vals)\n",
    "print(converted_list)\n"
   ]
  },
  {
   "cell_type": "markdown",
   "metadata": {},
   "source": []
  }
 ],
 "metadata": {
  "kernelspec": {
   "display_name": "Python 3",
   "language": "python",
   "name": "python3"
  },
  "language_info": {
   "codemirror_mode": {
    "name": "ipython",
    "version": 3
   },
   "file_extension": ".py",
   "mimetype": "text/x-python",
   "name": "python",
   "nbconvert_exporter": "python",
   "pygments_lexer": "ipython3",
   "version": "3.11.9"
  }
 },
 "nbformat": 4,
 "nbformat_minor": 2
}
