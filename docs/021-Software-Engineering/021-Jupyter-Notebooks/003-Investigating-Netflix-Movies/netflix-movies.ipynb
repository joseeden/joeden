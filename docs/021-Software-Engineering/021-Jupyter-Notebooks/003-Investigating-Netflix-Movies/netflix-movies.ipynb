{
 "cells": [
  {
   "cell_type": "markdown",
   "id": "ec73e1f8",
   "metadata": {},
   "source": [
    "<a href=\"https://colab.research.google.com/github/joseeden/joeden/blob/master/docs/021-Software-Engineering/021-Jupyter-Notebooks/003-Investigating-Netflix-Movies/netflix-movies.ipynb\" target=\"_parent\"><img src=\"https://colab.research.google.com/assets/colab-badge.svg\" alt=\"Open In Colab\"/></a>"
   ]
  },
  {
   "cell_type": "markdown",
   "id": "b706ae8b",
   "metadata": {},
   "source": [
    "# Investigating Netflix Movies"
   ]
  },
  {
   "cell_type": "markdown",
   "id": "20d0acd1",
   "metadata": {},
   "source": [
    "<center><img src=\"redpopcorn.jpg\"></center>"
   ]
  },
  {
   "cell_type": "markdown",
   "id": "abfe3b19",
   "metadata": {},
   "source": [
    "**Netflix**! What started in 1997 as a DVD rental service has since exploded into one of the largest entertainment and media companies.\n",
    "\n",
    "Given the large number of movies and series available on the platform, it is a perfect opportunity to flex your exploratory data analysis skills and dive into the entertainment industry.\n",
    "\n",
    "You work for a production company that specializes in nostalgic styles. You want to do some research on movies released in the 1990's. You'll delve into Netflix data and perform exploratory data analysis to better understand this awesome movie decade!\n",
    "\n",
    "You have been supplied with the dataset `netflix_data.csv`, along with the following table detailing the column names and descriptions. \n",
    "\n",
    "- What was the most frequent movie duration in the 1990s? Save an approximate answer as an integer called duration (use 1990 as the decade's start year).\n",
    "\n",
    "- A movie is considered short if it is less than 90 minutes. Count the number of short action movies released in the 1990s and save this integer as short_movie_count."
   ]
  },
  {
   "cell_type": "markdown",
   "id": "ddb11116",
   "metadata": {},
   "source": [
    "## The data\n",
    "\n",
    "**netflix_data.csv**\n",
    "\n",
    "| Column | Description |\n",
    "|--------|-------------|\n",
    "| `show_id` | The ID of the show |\n",
    "| `type` | Type of show |\n",
    "| `title` | Title of the show |\n",
    "| `director` | Director of the show |\n",
    "| `cast` | Cast of the show |\n",
    "| `country` | Country of origin |\n",
    "| `date_added` | Date added to Netflix |\n",
    "| `release_year` | Year of Netflix release |\n",
    "| `duration` | Duration of the show in minutes |\n",
    "| `description` | Description of the show |\n",
    "| `genre` | Show genre |"
   ]
  },
  {
   "cell_type": "markdown",
   "id": "6da87b31",
   "metadata": {},
   "source": [
    "## Approach \n",
    "\n",
    "1. Filter the data for type equals to movies (there are other types)\n",
    "2. Filter for movies released in the 1990s\n",
    "3. Find the most frequent movie duration\n",
    "4. Count the number of short action movies from the 1990s"
   ]
  },
  {
   "cell_type": "markdown",
   "id": "25728f7c",
   "metadata": {},
   "source": [
    "## Most Frequent Movie Duration \n",
    "\n",
    "Use subsetting to get filter for movies that are released during 1990s (between years 1989 and 2000), then retrieve just the specific columns (title, release_year, duration)"
   ]
  },
  {
   "cell_type": "code",
   "execution_count": null,
   "id": "796e4912",
   "metadata": {},
   "outputs": [
    {
     "name": "stdout",
     "output_type": "stream",
     "text": [
      "                                title  release_year  duration\n",
      "6                                 187          1997       119\n",
      "118                 A Dangerous Woman          1993       101\n",
      "145            A Night at the Roxbury          1998        82\n",
      "167   A Thin Line Between Love & Hate          1996       108\n",
      "194                      Aashik Awara          1993       154\n",
      "...                               ...           ...       ...\n",
      "4672                      West Beirut          1999       106\n",
      "4689      What's Eating Gilbert Grape          1993       118\n",
      "4718                   Wild Wild West          1999       106\n",
      "4746                       Wyatt Earp          1994       191\n",
      "4756                      Yaar Gaddar          1994       148\n",
      "\n",
      "[183 rows x 3 columns]\n"
     ]
    }
   ],
   "source": [
    "import pandas as pd\n",
    "import matplotlib.pyplot as plt\n",
    "\n",
    "# Read in the Netflix CSV as a DataFrame\n",
    "# netflix_df = pd.read_csv(\"./netflix_data.csv\")\n",
    "\n",
    "# Use URL instead, so that notebook can be ran from Google Colab without downloading csv file\n",
    "url = 'https://raw.githubusercontent.com/joseeden/joeden/refs/heads/master/docs/021-Software-Engineering/021-Jupyter-Notebooks/003-Investigating-Netflix-Movies/netflix_data.csv'\n",
    "netflix_df = pd.read_csv(url)\n",
    "\n",
    "movies = netflix_df[\n",
    "  netflix_df[\"type\"] == \"Movie\"\n",
    "]\n",
    "\n",
    "movies_1990s = movies[\n",
    "  (movies[\"release_year\"] >= 1990) & (movies[\"release_year\"] < 2000)\n",
    "]\n",
    "\n",
    "print(movies_1990s.iloc[\n",
    "  :,\n",
    "  [2,7,8]\n",
    "])"
   ]
  },
  {
   "cell_type": "markdown",
   "id": "9c8ed696",
   "metadata": {},
   "source": [
    "Get the frequent movie duration. In data terms, we need to get the distribution of movie durations. To achieve this, we can visualize the data.\n",
    "After plotting the data, find which bar is the highest - this is the most common duration."
   ]
  },
  {
   "cell_type": "code",
   "execution_count": null,
   "id": "551c85a5",
   "metadata": {},
   "outputs": [],
   "source": [
    "plt.hist(movies_1990s[\"duration\"])\n",
    "plt.show()"
   ]
  },
  {
   "cell_type": "markdown",
   "id": "dc22f8d7",
   "metadata": {},
   "source": [
    "Add the title, and the X and Y axis labels. \n",
    "X axis = duration in minutes\n",
    "Y axis = number of movies"
   ]
  },
  {
   "cell_type": "code",
   "execution_count": null,
   "id": "3e67d997",
   "metadata": {},
   "outputs": [],
   "source": [
    "plt.hist(movies_1990s[\"duration\"])\n",
    "plt.title(\"Duration of the movies in the 1990s\")\n",
    "plt.xlabel(\"Duration (in mintutes)\")\n",
    "plt.ylabel(\"Number of movies\")\n",
    "plt.show()"
   ]
  },
  {
   "cell_type": "markdown",
   "id": "a658724a",
   "metadata": {},
   "source": [
    "Based on the plot, the most common duration is **100 minutes**. Since it's part of the instruction, save it in the `duration` variable."
   ]
  },
  {
   "cell_type": "code",
   "execution_count": 67,
   "id": "48c9e113",
   "metadata": {},
   "outputs": [],
   "source": [
    "duration = 100"
   ]
  },
  {
   "cell_type": "markdown",
   "id": "da0e3311",
   "metadata": {},
   "source": [
    "## Short Action Movies\n",
    "\n",
    "Next, we need to find all action movies in th3 1990s with duration that's shorter than 90 minutes. Find all movies with genre equals to action, then filter the duration."
   ]
  },
  {
   "cell_type": "code",
   "execution_count": null,
   "id": "a5a1161c",
   "metadata": {},
   "outputs": [],
   "source": [
    "import pandas as pd\n",
    "import matplotlib.pyplot as plt\n",
    "\n",
    "netflix_df = pd.read_csv(\"./netflix_data.csv\")\n",
    "\n",
    "## Get most common duration of 1990s movies \n",
    "\n",
    "movies = netflix_df[\n",
    "  netflix_df[\"type\"] == \"Movie\"\n",
    "]\n",
    "\n",
    "movies_1990s = movies[\n",
    "  (movies[\"release_year\"] >= 1990) & (movies[\"release_year\"] < 2000)\n",
    "]\n",
    "\n",
    "duration = 100\n",
    "print(\"Most frequent duration: \" + str(duration))\n",
    "\n",
    "## Get short action movies in the 1990s\n",
    "\n",
    "action_movies_1990s = movies_1990s[\n",
    "  movies_1990s[\"genre\"] == \"Action\"\n",
    "]\n",
    "\n",
    "action_movies_1990s_short = action_movies_1990s[\n",
    "  action_movies_1990s[\"duration\"] < 90\n",
    "]\n",
    "\n",
    "print(action_movies_1990s_short.iloc[\n",
    "  :,\n",
    "  [2,7,8,-1]\n",
    "])\n",
    "\n",
    "\n",
    "## Count the number of short action movies in the 1990s \n",
    "\n",
    "short_movie_count = 0\n",
    "\n",
    "for label, row in action_movies_1990s_short.iterrows():\n",
    "  short_movie_count = short_movie_count + 1\n",
    "    \n",
    "print(\"Number of short action movies in the 1990s: \" + str(short_movie_count))\n",
    "\n"
   ]
  }
 ],
 "metadata": {
  "language_info": {
   "name": "python"
  }
 },
 "nbformat": 4,
 "nbformat_minor": 2
}
