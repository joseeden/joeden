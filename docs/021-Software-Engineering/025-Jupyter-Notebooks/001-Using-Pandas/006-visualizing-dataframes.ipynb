{
 "cells": [
  {
   "cell_type": "markdown",
   "metadata": {},
   "source": [
    "<a href=\"https://colab.research.google.com/github/joseeden/joeden/blob/master/docs/021-Software-Engineering/021-Jupyter-Notebooks/001-Using-Pandas/006-visualizing-dataframes.ipynb\" target=\"_parent\"><img src=\"https://colab.research.google.com/assets/colab-badge.svg\" alt=\"Open In Colab\"/></a>"
   ]
  },
  {
   "cell_type": "markdown",
   "metadata": {},
   "source": [
    "# Avocado Sales Dataset \n",
    "\n",
    "Avocados are becoming more popular, especially in dishes like guacamole and on toast. The Hass Avocado Board monitors the supply and demand of avocados across the USA, including sales of three different avocado sizes. You'll use a dataset showing the sales of Avocado in the US."
   ]
  },
  {
   "cell_type": "markdown",
   "metadata": {},
   "source": [
    "Import the dataset."
   ]
  },
  {
   "cell_type": "code",
   "execution_count": 29,
   "metadata": {},
   "outputs": [
    {
     "name": "stdout",
     "output_type": "stream",
     "text": [
      "         date          type  year  avg_price   size     nb_sold\n",
      "0  2015-12-27  conventional  2015       0.95  small  9626901.09\n",
      "1  2015-12-20  conventional  2015       0.98  small  8710021.76\n",
      "2  2015-12-13  conventional  2015       0.93  small  9855053.66\n",
      "3  2015-12-06  conventional  2015       0.89  small  9405464.36\n",
      "4  2015-11-29  conventional  2015       0.99  small  8094803.56\n"
     ]
    }
   ],
   "source": [
    "import pandas as pd \n",
    "\n",
    "url = 'https://raw.githubusercontent.com/joseeden/joeden/refs/heads/master/docs/021-Software-Engineering/021-Jupyter-Notebooks/000-Sample-Datasets/data-manipulation-using-pandas/avoplotto.pkl'\n",
    "avocados = pd.read_pickle(url)\n",
    "\n",
    "print(avocados.head())"
   ]
  },
  {
   "cell_type": "markdown",
   "metadata": {},
   "source": [
    "# Group by Size \n",
    "\n",
    "For each avocado size group, calculate the total number sold, storing as nb_sold_by_size."
   ]
  },
  {
   "cell_type": "code",
   "execution_count": null,
   "metadata": {},
   "outputs": [],
   "source": [
    "nb_sold_by_size = avocados.groupby(\"size\")[\"nb_sold\"].sum()\n",
    "print(nb_sold_by_size)"
   ]
  },
  {
   "cell_type": "markdown",
   "metadata": {},
   "source": [
    "Create a bar plot of the number of avocados sold by size. Print the plot."
   ]
  },
  {
   "cell_type": "code",
   "execution_count": null,
   "metadata": {},
   "outputs": [],
   "source": [
    "import matplotlib.pyplot as plt\n",
    "nb_sold_by_size.plot(kind=\"bar\")\n",
    "plt.show()"
   ]
  },
  {
   "cell_type": "markdown",
   "metadata": {},
   "source": [
    "# Changes in Sales Over Time\n",
    "\n",
    "Line plots are used to show how two numeric variables are related, with each data point connected to the next. They are particularly useful for displaying changes over time, as each time point follows the previous one. In this exercise, you'll visualize the change in avocado sales over three years."
   ]
  },
  {
   "cell_type": "markdown",
   "metadata": {},
   "source": [
    "Get the total number of avocados sold on each date. The DataFrame has two rows for each date—one for organic, and one for conventional. Save this as `nb_sold_by_date`."
   ]
  },
  {
   "cell_type": "code",
   "execution_count": null,
   "metadata": {},
   "outputs": [],
   "source": [
    "nb_sold_by_date = avocados.groupby(\"date\")[\"nb_sold\"].sum()\n",
    "print(nb_sold_by_date)"
   ]
  },
  {
   "cell_type": "markdown",
   "metadata": {},
   "source": [
    "Create a line plot of the number of avocados sold by date."
   ]
  },
  {
   "cell_type": "code",
   "execution_count": null,
   "metadata": {},
   "outputs": [],
   "source": [
    "nb_sold_by_date.plot(kind=\"line\")\n",
    "plt.show()"
   ]
  },
  {
   "cell_type": "markdown",
   "metadata": {},
   "source": [
    "# Supply and demand \n",
    "\n",
    "Scatter plots are perfect for showing how two numerical variables are related. In this exercise, you'll compare the number of avocados sold to the average price to check if there's any correlation. If a relationship exists, one variable might help predict the other.\n",
    "\n",
    "Create a scatter plot with nb_sold on the x-axis and avg_price on the y-axis. Title it \"Number of avocados sold vs. average price\"."
   ]
  },
  {
   "cell_type": "code",
   "execution_count": null,
   "metadata": {},
   "outputs": [],
   "source": [
    "avocados.plot(\n",
    "    kind=\"scatter\",\n",
    "    x=\"nb_sold\",\n",
    "    y=\"avg_price\",\n",
    "    title=\"Number of avocados sold vs. average price\"\n",
    ")\n",
    "\n",
    "plt.show()"
   ]
  },
  {
   "cell_type": "markdown",
   "metadata": {},
   "source": [
    "# Price of Conventional vs. Organic Avocados\n",
    "\n",
    "Creating separate plots for different data groups helps with comparisons. In this exercise, you'll create histograms to compare the prices of conventional and organic avocados.\n",
    "\n",
    "Todo:\n",
    "\n",
    "- Subset avocados for the \"conventional\" type and create a histogram of the avg_price column.\n",
    "- Create a histogram of avg_price for \"organic\" type avocados.\n",
    "- Add a legend to your plot, with the names \"conventional\" and \"organic\".\n",
    "- Show your plot."
   ]
  },
  {
   "cell_type": "markdown",
   "metadata": {},
   "source": [
    "Create a histogram of avg_price for \"organic\" type avocados. Then add a legend and show the plot."
   ]
  },
  {
   "cell_type": "code",
   "execution_count": null,
   "metadata": {},
   "outputs": [],
   "source": [
    "improt matplotlib.pyplot as plt \n",
    "\n",
    "avocados[avocados[\"type\"] == \"conventional\"][\"avg_price\"].plot(kind=\"hist\")\n",
    "avocados[avocados[\"type\"] == \"organic\"][\"avg_price\"].plot(kind=\"hist\")\n",
    "\n",
    "plt.legend([\n",
    "    \"conventional\",\n",
    "    \"organic\"\n",
    "])\n",
    "\n",
    "plt.show()"
   ]
  },
  {
   "cell_type": "markdown",
   "metadata": {},
   "source": [
    "Modify your code to adjust the transparency of both histograms to 0.5 to see how much overlap there is between the two distributions."
   ]
  },
  {
   "cell_type": "code",
   "execution_count": null,
   "metadata": {},
   "outputs": [],
   "source": [
    "import matplotlib.pyplot as plt \n",
    "\n",
    "avocados[avocados[\"type\"] == \"conventional\"][\"avg_price\"].hist(alpha=0.5)\n",
    "avocados[avocados[\"type\"] == \"organic\"][\"avg_price\"].hist(alpha=0.5)\n",
    "\n",
    "plt.legend([\n",
    "    \"conventional\",\n",
    "    \"organic\"\n",
    "])\n",
    "\n",
    "plt.show()"
   ]
  },
  {
   "cell_type": "markdown",
   "metadata": {},
   "source": [
    "Modify your code to use 20 bins in both histograms."
   ]
  },
  {
   "cell_type": "code",
   "execution_count": null,
   "metadata": {},
   "outputs": [],
   "source": [
    "import matplotlib.pyplot as plt \n",
    "\n",
    "avocados[avocados[\"type\"] == \"conventional\"][\"avg_price\"].hist(alpha=0.5, bins=20)\n",
    "avocados[avocados[\"type\"] == \"organic\"][\"avg_price\"].hist(alpha=0.5, bins=20)\n",
    "\n",
    "plt.legend([\n",
    "    \"conventional\",\n",
    "    \"organic\"\n",
    "])\n",
    "\n",
    "plt.show()"
   ]
  },
  {
   "cell_type": "markdown",
   "metadata": {},
   "source": [
    "# Missing Values\n",
    "\n",
    "Missing values are common and can affect your work. While some functions ignore them, others can't handle missing data and require you to address them first. If you're unaware of missing values, it could lead to mistakes in your analysis. In this exercise, you'll check for missing values in the dataset and count how many there are.\n",
    "\n",
    "Using the `avocados1 dataframe, create a new dataframe that contains only sales from 2016."
   ]
  },
  {
   "cell_type": "code",
   "execution_count": 34,
   "metadata": {},
   "outputs": [
    {
     "name": "stdout",
     "output_type": "stream",
     "text": [
      "           date          type  year  avg_price         size      nb_sold\n",
      "52   2016-12-25  conventional  2016       1.00        small   9255125.20\n",
      "53   2016-12-18  conventional  2016       0.96        small   9394065.91\n",
      "54   2016-12-11  conventional  2016       0.98        small   9009996.11\n",
      "55   2016-12-04  conventional  2016       1.00        small  11043350.90\n",
      "56   2016-11-27  conventional  2016       1.21        small   7891487.94\n",
      "..          ...           ...   ...        ...          ...          ...\n",
      "944  2016-01-31       organic  2016       1.43  extra_large      5515.91\n",
      "945  2016-01-24       organic  2016       1.41  extra_large     12933.97\n",
      "946  2016-01-17       organic  2016       1.44  extra_large     13106.29\n",
      "947  2016-01-10       organic  2016       1.35  extra_large      8771.79\n",
      "948  2016-01-03       organic  2016       1.43  extra_large      7749.40\n",
      "\n",
      "[312 rows x 6 columns]\n"
     ]
    }
   ],
   "source": [
    "avocados_2016 = avocados[avocados['year'] == 2016]\n",
    "print(avocados_2016)"
   ]
  },
  {
   "cell_type": "markdown",
   "metadata": {},
   "source": [
    "Check individual values for missing values."
   ]
  },
  {
   "cell_type": "code",
   "execution_count": 51,
   "metadata": {},
   "outputs": [
    {
     "name": "stdout",
     "output_type": "stream",
     "text": [
      "      date   type   year  avg_price   size  nb_sold\n",
      "52   False  False  False      False  False    False\n",
      "53   False  False  False      False  False    False\n",
      "54   False  False  False      False  False    False\n",
      "55   False  False  False      False  False    False\n",
      "56   False  False  False      False  False    False\n",
      "..     ...    ...    ...        ...    ...      ...\n",
      "944  False  False  False      False  False    False\n",
      "945  False  False  False      False  False    False\n",
      "946  False  False  False      False  False    False\n",
      "947  False  False  False      False  False    False\n",
      "948  False  False  False      False  False    False\n",
      "\n",
      "[312 rows x 6 columns]\n"
     ]
    }
   ],
   "source": [
    "avocados_2016 = avocados[avocados['year'] == 2016]\n",
    "print(avocados_2016.isna())"
   ]
  },
  {
   "cell_type": "markdown",
   "metadata": {},
   "source": [
    "Check each column for missing values."
   ]
  },
  {
   "cell_type": "code",
   "execution_count": 52,
   "metadata": {},
   "outputs": [
    {
     "name": "stdout",
     "output_type": "stream",
     "text": [
      "date         False\n",
      "type         False\n",
      "year         False\n",
      "avg_price    False\n",
      "size         False\n",
      "nb_sold      False\n",
      "dtype: bool\n"
     ]
    }
   ],
   "source": [
    "avocados_2016 = avocados[avocados['year'] == 2016]\n",
    "print(avocados_2016.isna().any())"
   ]
  },
  {
   "cell_type": "markdown",
   "metadata": {},
   "source": [
    "Create a bar plot of the total number of missing values in each column."
   ]
  },
  {
   "cell_type": "code",
   "execution_count": 53,
   "metadata": {},
   "outputs": [
    {
     "name": "stdout",
     "output_type": "stream",
     "text": [
      "0\n"
     ]
    },
    {
     "data": {
      "image/png": "[encoded data removed]",
      "text/plain": [
       "<Figure size 640x480 with 1 Axes>"
      ]
     },
     "metadata": {},
     "output_type": "display_data"
    }
   ],
   "source": [
    "import matplotlib.pyplot as plt\n",
    "\n",
    "avocados_2016 = avocados[avocados['year'] == 2016]\n",
    "print(avocados_2016.isna().any().sum())\n",
    "\n",
    "avocados_2016.isna().sum().plot(kind=\"bar\")\n",
    "plt.show()"
   ]
  },
  {
   "cell_type": "markdown",
   "metadata": {},
   "source": [
    "Remove the rows of avocados_2016 that contain missing values and store the remaining rows in avocados_complete."
   ]
  },
  {
   "cell_type": "code",
   "execution_count": 54,
   "metadata": {},
   "outputs": [
    {
     "name": "stdout",
     "output_type": "stream",
     "text": [
      "date         False\n",
      "type         False\n",
      "year         False\n",
      "avg_price    False\n",
      "size         False\n",
      "nb_sold      False\n",
      "dtype: bool\n"
     ]
    }
   ],
   "source": [
    "avocados_2016 = avocados[avocados['year'] == 2016]\n",
    "avocados_complete = avocados_2016.dropna()\n",
    "print(avocados_complete.isna().any())"
   ]
  }
 ],
 "metadata": {
  "kernelspec": {
   "display_name": "Python 3",
   "language": "python",
   "name": "python3"
  },
  "language_info": {
   "codemirror_mode": {
    "name": "ipython",
    "version": 3
   },
   "file_extension": ".py",
   "mimetype": "text/x-python",
   "name": "python",
   "nbconvert_exporter": "python",
   "pygments_lexer": "ipython3",
   "version": "3.11.9"
  }
 },
 "nbformat": 4,
 "nbformat_minor": 2
}
